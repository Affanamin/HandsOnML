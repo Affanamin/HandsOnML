{
 "cells": [
  {
   "cell_type": "code",
   "execution_count": 1,
   "id": "ee5e41f5",
   "metadata": {},
   "outputs": [],
   "source": [
    "import pandas as pd\n",
    "import numpy as np\n",
    "import os\n",
    "import matplotlib.pyplot as plt\n",
    "\n",
    "#pd.set_option(\"display.max_columns\",None)\n",
    "#pd.set_option(\"display.max_rows\",None)\n"
   ]
  },
  {
   "cell_type": "code",
   "execution_count": 2,
   "id": "9e54e922",
   "metadata": {},
   "outputs": [
    {
     "data": {
      "text/plain": [
       "'E:\\\\Youtube_Datascience\\\\housing.csv'"
      ]
     },
     "execution_count": 2,
     "metadata": {},
     "output_type": "execute_result"
    }
   ],
   "source": [
    "#present working directory pwd\n",
    "pwd = os.getcwd()\n",
    "filepath = os.path.join(pwd,\"housing.csv\")\n",
    "filepath"
   ]
  },
  {
   "cell_type": "code",
   "execution_count": 3,
   "id": "b7c6d9c2",
   "metadata": {},
   "outputs": [
    {
     "data": {
      "text/html": [
       "<div>\n",
       "<style scoped>\n",
       "    .dataframe tbody tr th:only-of-type {\n",
       "        vertical-align: middle;\n",
       "    }\n",
       "\n",
       "    .dataframe tbody tr th {\n",
       "        vertical-align: top;\n",
       "    }\n",
       "\n",
       "    .dataframe thead th {\n",
       "        text-align: right;\n",
       "    }\n",
       "</style>\n",
       "<table border=\"1\" class=\"dataframe\">\n",
       "  <thead>\n",
       "    <tr style=\"text-align: right;\">\n",
       "      <th></th>\n",
       "      <th>longitude</th>\n",
       "      <th>latitude</th>\n",
       "      <th>housing_median_age</th>\n",
       "      <th>total_rooms</th>\n",
       "      <th>total_bedrooms</th>\n",
       "      <th>population</th>\n",
       "      <th>households</th>\n",
       "      <th>median_income</th>\n",
       "      <th>median_house_value</th>\n",
       "      <th>ocean_proximity</th>\n",
       "    </tr>\n",
       "  </thead>\n",
       "  <tbody>\n",
       "    <tr>\n",
       "      <th>0</th>\n",
       "      <td>-122.23</td>\n",
       "      <td>37.88</td>\n",
       "      <td>41.0</td>\n",
       "      <td>880.0</td>\n",
       "      <td>129.0</td>\n",
       "      <td>322.0</td>\n",
       "      <td>126.0</td>\n",
       "      <td>8.3252</td>\n",
       "      <td>452600.0</td>\n",
       "      <td>NEAR BAY</td>\n",
       "    </tr>\n",
       "    <tr>\n",
       "      <th>1</th>\n",
       "      <td>-122.22</td>\n",
       "      <td>37.86</td>\n",
       "      <td>21.0</td>\n",
       "      <td>7099.0</td>\n",
       "      <td>1106.0</td>\n",
       "      <td>2401.0</td>\n",
       "      <td>1138.0</td>\n",
       "      <td>8.3014</td>\n",
       "      <td>358500.0</td>\n",
       "      <td>NEAR BAY</td>\n",
       "    </tr>\n",
       "    <tr>\n",
       "      <th>2</th>\n",
       "      <td>-122.24</td>\n",
       "      <td>37.85</td>\n",
       "      <td>52.0</td>\n",
       "      <td>1467.0</td>\n",
       "      <td>190.0</td>\n",
       "      <td>496.0</td>\n",
       "      <td>177.0</td>\n",
       "      <td>7.2574</td>\n",
       "      <td>352100.0</td>\n",
       "      <td>NEAR BAY</td>\n",
       "    </tr>\n",
       "    <tr>\n",
       "      <th>3</th>\n",
       "      <td>-122.25</td>\n",
       "      <td>37.85</td>\n",
       "      <td>52.0</td>\n",
       "      <td>1274.0</td>\n",
       "      <td>235.0</td>\n",
       "      <td>558.0</td>\n",
       "      <td>219.0</td>\n",
       "      <td>5.6431</td>\n",
       "      <td>341300.0</td>\n",
       "      <td>NEAR BAY</td>\n",
       "    </tr>\n",
       "    <tr>\n",
       "      <th>4</th>\n",
       "      <td>-122.25</td>\n",
       "      <td>37.85</td>\n",
       "      <td>52.0</td>\n",
       "      <td>1627.0</td>\n",
       "      <td>280.0</td>\n",
       "      <td>565.0</td>\n",
       "      <td>259.0</td>\n",
       "      <td>3.8462</td>\n",
       "      <td>342200.0</td>\n",
       "      <td>NEAR BAY</td>\n",
       "    </tr>\n",
       "  </tbody>\n",
       "</table>\n",
       "</div>"
      ],
      "text/plain": [
       "   longitude  latitude  housing_median_age  total_rooms  total_bedrooms  \\\n",
       "0    -122.23     37.88                41.0        880.0           129.0   \n",
       "1    -122.22     37.86                21.0       7099.0          1106.0   \n",
       "2    -122.24     37.85                52.0       1467.0           190.0   \n",
       "3    -122.25     37.85                52.0       1274.0           235.0   \n",
       "4    -122.25     37.85                52.0       1627.0           280.0   \n",
       "\n",
       "   population  households  median_income  median_house_value ocean_proximity  \n",
       "0       322.0       126.0         8.3252            452600.0        NEAR BAY  \n",
       "1      2401.0      1138.0         8.3014            358500.0        NEAR BAY  \n",
       "2       496.0       177.0         7.2574            352100.0        NEAR BAY  \n",
       "3       558.0       219.0         5.6431            341300.0        NEAR BAY  \n",
       "4       565.0       259.0         3.8462            342200.0        NEAR BAY  "
      ]
     },
     "execution_count": 3,
     "metadata": {},
     "output_type": "execute_result"
    }
   ],
   "source": [
    "df1 = pd.read_csv(filepath)\n",
    "df1.head()"
   ]
  },
  {
   "cell_type": "code",
   "execution_count": 4,
   "id": "19a86cb5",
   "metadata": {},
   "outputs": [
    {
     "data": {
      "text/plain": [
       "(20640, 10)"
      ]
     },
     "execution_count": 4,
     "metadata": {},
     "output_type": "execute_result"
    }
   ],
   "source": [
    "df1.shape"
   ]
  },
  {
   "cell_type": "code",
   "execution_count": 5,
   "id": "b5074fe5",
   "metadata": {},
   "outputs": [
    {
     "name": "stdout",
     "output_type": "stream",
     "text": [
      "<class 'pandas.core.frame.DataFrame'>\n",
      "RangeIndex: 20640 entries, 0 to 20639\n",
      "Data columns (total 10 columns):\n",
      " #   Column              Non-Null Count  Dtype  \n",
      "---  ------              --------------  -----  \n",
      " 0   longitude           20640 non-null  float64\n",
      " 1   latitude            20640 non-null  float64\n",
      " 2   housing_median_age  20640 non-null  float64\n",
      " 3   total_rooms         20640 non-null  float64\n",
      " 4   total_bedrooms      20433 non-null  float64\n",
      " 5   population          20640 non-null  float64\n",
      " 6   households          20640 non-null  float64\n",
      " 7   median_income       20640 non-null  float64\n",
      " 8   median_house_value  20640 non-null  float64\n",
      " 9   ocean_proximity     20640 non-null  object \n",
      "dtypes: float64(9), object(1)\n",
      "memory usage: 1.6+ MB\n"
     ]
    }
   ],
   "source": [
    "df1.info()"
   ]
  },
  {
   "cell_type": "markdown",
   "id": "b4535920",
   "metadata": {},
   "source": [
    "### Inital Observations:\n",
    "\n",
    "1. Data type of our features is mostly float which means they have floating numbers (1.22,3.335444 and etc..). There are other dtypes as well, but for noiw we are just focusing on these floats and objects.\n",
    "\n",
    "2. Objects means they have string values in there"
   ]
  },
  {
   "cell_type": "code",
   "execution_count": 6,
   "id": "50f3336c",
   "metadata": {},
   "outputs": [
    {
     "data": {
      "text/plain": [
       "<1H OCEAN     9136\n",
       "INLAND        6551\n",
       "NEAR OCEAN    2658\n",
       "NEAR BAY      2290\n",
       "ISLAND           5\n",
       "Name: ocean_proximity, dtype: int64"
      ]
     },
     "execution_count": 6,
     "metadata": {},
     "output_type": "execute_result"
    }
   ],
   "source": [
    "df1['ocean_proximity'].value_counts()"
   ]
  },
  {
   "cell_type": "markdown",
   "id": "3b695fb5",
   "metadata": {},
   "source": [
    "### Always  Visualize data, Always !!!!"
   ]
  },
  {
   "cell_type": "code",
   "execution_count": 7,
   "id": "fb502b66",
   "metadata": {},
   "outputs": [
    {
     "data": {
      "text/plain": [
       "<AxesSubplot:>"
      ]
     },
     "execution_count": 7,
     "metadata": {},
     "output_type": "execute_result"
    },
    {
     "data": {
      "image/png": "[encoded data removed]",
      "text/plain": [
       "<Figure size 432x288 with 1 Axes>"
      ]
     },
     "metadata": {
      "needs_background": "light"
     },
     "output_type": "display_data"
    }
   ],
   "source": [
    "df1['ocean_proximity'].value_counts().plot(kind = \"barh\",color='orange')"
   ]
  },
  {
   "cell_type": "code",
   "execution_count": 8,
   "id": "f9845b25",
   "metadata": {},
   "outputs": [
    {
     "data": {
      "text/html": [
       "<div>\n",
       "<style scoped>\n",
       "    .dataframe tbody tr th:only-of-type {\n",
       "        vertical-align: middle;\n",
       "    }\n",
       "\n",
       "    .dataframe tbody tr th {\n",
       "        vertical-align: top;\n",
       "    }\n",
       "\n",
       "    .dataframe thead th {\n",
       "        text-align: right;\n",
       "    }\n",
       "</style>\n",
       "<table border=\"1\" class=\"dataframe\">\n",
       "  <thead>\n",
       "    <tr style=\"text-align: right;\">\n",
       "      <th></th>\n",
       "      <th>longitude</th>\n",
       "      <th>latitude</th>\n",
       "      <th>housing_median_age</th>\n",
       "      <th>total_rooms</th>\n",
       "      <th>total_bedrooms</th>\n",
       "      <th>population</th>\n",
       "      <th>households</th>\n",
       "      <th>median_income</th>\n",
       "      <th>median_house_value</th>\n",
       "    </tr>\n",
       "  </thead>\n",
       "  <tbody>\n",
       "    <tr>\n",
       "      <th>count</th>\n",
       "      <td>20640.000000</td>\n",
       "      <td>20640.000000</td>\n",
       "      <td>20640.000000</td>\n",
       "      <td>20640.000000</td>\n",
       "      <td>20433.000000</td>\n",
       "      <td>20640.000000</td>\n",
       "      <td>20640.000000</td>\n",
       "      <td>20640.000000</td>\n",
       "      <td>20640.000000</td>\n",
       "    </tr>\n",
       "    <tr>\n",
       "      <th>mean</th>\n",
       "      <td>-119.569704</td>\n",
       "      <td>35.631861</td>\n",
       "      <td>28.639486</td>\n",
       "      <td>2635.763081</td>\n",
       "      <td>537.870553</td>\n",
       "      <td>1425.476744</td>\n",
       "      <td>499.539680</td>\n",
       "      <td>3.870671</td>\n",
       "      <td>206855.816909</td>\n",
       "    </tr>\n",
       "    <tr>\n",
       "      <th>std</th>\n",
       "      <td>2.003532</td>\n",
       "      <td>2.135952</td>\n",
       "      <td>12.585558</td>\n",
       "      <td>2181.615252</td>\n",
       "      <td>421.385070</td>\n",
       "      <td>1132.462122</td>\n",
       "      <td>382.329753</td>\n",
       "      <td>1.899822</td>\n",
       "      <td>115395.615874</td>\n",
       "    </tr>\n",
       "    <tr>\n",
       "      <th>min</th>\n",
       "      <td>-124.350000</td>\n",
       "      <td>32.540000</td>\n",
       "      <td>1.000000</td>\n",
       "      <td>2.000000</td>\n",
       "      <td>1.000000</td>\n",
       "      <td>3.000000</td>\n",
       "      <td>1.000000</td>\n",
       "      <td>0.499900</td>\n",
       "      <td>14999.000000</td>\n",
       "    </tr>\n",
       "    <tr>\n",
       "      <th>25%</th>\n",
       "      <td>-121.800000</td>\n",
       "      <td>33.930000</td>\n",
       "      <td>18.000000</td>\n",
       "      <td>1447.750000</td>\n",
       "      <td>296.000000</td>\n",
       "      <td>787.000000</td>\n",
       "      <td>280.000000</td>\n",
       "      <td>2.563400</td>\n",
       "      <td>119600.000000</td>\n",
       "    </tr>\n",
       "    <tr>\n",
       "      <th>50%</th>\n",
       "      <td>-118.490000</td>\n",
       "      <td>34.260000</td>\n",
       "      <td>29.000000</td>\n",
       "      <td>2127.000000</td>\n",
       "      <td>435.000000</td>\n",
       "      <td>1166.000000</td>\n",
       "      <td>409.000000</td>\n",
       "      <td>3.534800</td>\n",
       "      <td>179700.000000</td>\n",
       "    </tr>\n",
       "    <tr>\n",
       "      <th>75%</th>\n",
       "      <td>-118.010000</td>\n",
       "      <td>37.710000</td>\n",
       "      <td>37.000000</td>\n",
       "      <td>3148.000000</td>\n",
       "      <td>647.000000</td>\n",
       "      <td>1725.000000</td>\n",
       "      <td>605.000000</td>\n",
       "      <td>4.743250</td>\n",
       "      <td>264725.000000</td>\n",
       "    </tr>\n",
       "    <tr>\n",
       "      <th>max</th>\n",
       "      <td>-114.310000</td>\n",
       "      <td>41.950000</td>\n",
       "      <td>52.000000</td>\n",
       "      <td>39320.000000</td>\n",
       "      <td>6445.000000</td>\n",
       "      <td>35682.000000</td>\n",
       "      <td>6082.000000</td>\n",
       "      <td>15.000100</td>\n",
       "      <td>500001.000000</td>\n",
       "    </tr>\n",
       "  </tbody>\n",
       "</table>\n",
       "</div>"
      ],
      "text/plain": [
       "          longitude      latitude  housing_median_age   total_rooms  \\\n",
       "count  20640.000000  20640.000000        20640.000000  20640.000000   \n",
       "mean    -119.569704     35.631861           28.639486   2635.763081   \n",
       "std        2.003532      2.135952           12.585558   2181.615252   \n",
       "min     -124.350000     32.540000            1.000000      2.000000   \n",
       "25%     -121.800000     33.930000           18.000000   1447.750000   \n",
       "50%     -118.490000     34.260000           29.000000   2127.000000   \n",
       "75%     -118.010000     37.710000           37.000000   3148.000000   \n",
       "max     -114.310000     41.950000           52.000000  39320.000000   \n",
       "\n",
       "       total_bedrooms    population    households  median_income  \\\n",
       "count    20433.000000  20640.000000  20640.000000   20640.000000   \n",
       "mean       537.870553   1425.476744    499.539680       3.870671   \n",
       "std        421.385070   1132.462122    382.329753       1.899822   \n",
       "min          1.000000      3.000000      1.000000       0.499900   \n",
       "25%        296.000000    787.000000    280.000000       2.563400   \n",
       "50%        435.000000   1166.000000    409.000000       3.534800   \n",
       "75%        647.000000   1725.000000    605.000000       4.743250   \n",
       "max       6445.000000  35682.000000   6082.000000      15.000100   \n",
       "\n",
       "       median_house_value  \n",
       "count        20640.000000  \n",
       "mean        206855.816909  \n",
       "std         115395.615874  \n",
       "min          14999.000000  \n",
       "25%         119600.000000  \n",
       "50%         179700.000000  \n",
       "75%         264725.000000  \n",
       "max         500001.000000  "
      ]
     },
     "execution_count": 8,
     "metadata": {},
     "output_type": "execute_result"
    }
   ],
   "source": [
    "df1.describe()"
   ]
  },
  {
   "cell_type": "markdown",
   "id": "9ff6a78a",
   "metadata": {},
   "source": [
    "### Always start you visualiztion on continous data types with histogram"
   ]
  },
  {
   "cell_type": "code",
   "execution_count": 9,
   "id": "cdef96b8",
   "metadata": {},
   "outputs": [
    {
     "data": {
      "text/plain": [
       "<AxesSubplot:>"
      ]
     },
     "execution_count": 9,
     "metadata": {},
     "output_type": "execute_result"
    },
    {
     "data": {
      "image/png": "[encoded data removed]",
      "text/plain": [
       "<Figure size 432x288 with 1 Axes>"
      ]
     },
     "metadata": {
      "needs_background": "light"
     },
     "output_type": "display_data"
    }
   ],
   "source": [
    "df1['median_income'].hist()"
   ]
  },
  {
   "cell_type": "code",
   "execution_count": 10,
   "id": "41776c67",
   "metadata": {},
   "outputs": [],
   "source": [
    "### Not giving proper visuals ? Lets explore it to the other level"
   ]
  },
  {
   "cell_type": "code",
   "execution_count": 11,
   "id": "057e692b",
   "metadata": {},
   "outputs": [
    {
     "data": {
      "text/plain": [
       "3    7236\n",
       "2    6581\n",
       "4    3639\n",
       "5    2362\n",
       "1     822\n",
       "Name: median_income_cat, dtype: int64"
      ]
     },
     "execution_count": 11,
     "metadata": {},
     "output_type": "execute_result"
    }
   ],
   "source": [
    "df1['median_income_cat'] = pd.cut(df1['median_income'],\n",
    "                                  bins = [0., 1.5, 3.0, 4.5, 6., np.inf],\n",
    "                                  labels=[1,2,3,4,5])\n",
    "df1['median_income_cat'].value_counts()"
   ]
  },
  {
   "cell_type": "code",
   "execution_count": 12,
   "id": "2854cc10",
   "metadata": {},
   "outputs": [
    {
     "data": {
      "text/plain": [
       "<AxesSubplot:>"
      ]
     },
     "execution_count": 12,
     "metadata": {},
     "output_type": "execute_result"
    },
    {
     "data": {
      "image/png": "[encoded data removed]",
      "text/plain": [
       "<Figure size 432x288 with 1 Axes>"
      ]
     },
     "metadata": {
      "needs_background": "light"
     },
     "output_type": "display_data"
    }
   ],
   "source": [
    "df1['median_income_cat'].hist()"
   ]
  },
  {
   "cell_type": "code",
   "execution_count": null,
   "id": "2698820d",
   "metadata": {},
   "outputs": [],
   "source": []
  },
  {
   "cell_type": "code",
   "execution_count": 13,
   "id": "25ea7b6c",
   "metadata": {},
   "outputs": [],
   "source": [
    "y = df1['median_house_value']\n",
    "X = df1.drop(['median_house_value'],axis =1)"
   ]
  },
  {
   "cell_type": "code",
   "execution_count": 14,
   "id": "9bcfbd0c",
   "metadata": {},
   "outputs": [
    {
     "data": {
      "text/html": [
       "<div>\n",
       "<style scoped>\n",
       "    .dataframe tbody tr th:only-of-type {\n",
       "        vertical-align: middle;\n",
       "    }\n",
       "\n",
       "    .dataframe tbody tr th {\n",
       "        vertical-align: top;\n",
       "    }\n",
       "\n",
       "    .dataframe thead th {\n",
       "        text-align: right;\n",
       "    }\n",
       "</style>\n",
       "<table border=\"1\" class=\"dataframe\">\n",
       "  <thead>\n",
       "    <tr style=\"text-align: right;\">\n",
       "      <th></th>\n",
       "      <th>longitude</th>\n",
       "      <th>latitude</th>\n",
       "      <th>housing_median_age</th>\n",
       "      <th>total_rooms</th>\n",
       "      <th>total_bedrooms</th>\n",
       "      <th>population</th>\n",
       "      <th>households</th>\n",
       "      <th>median_income</th>\n",
       "      <th>ocean_proximity</th>\n",
       "      <th>median_income_cat</th>\n",
       "    </tr>\n",
       "  </thead>\n",
       "  <tbody>\n",
       "    <tr>\n",
       "      <th>0</th>\n",
       "      <td>-122.23</td>\n",
       "      <td>37.88</td>\n",
       "      <td>41.0</td>\n",
       "      <td>880.0</td>\n",
       "      <td>129.0</td>\n",
       "      <td>322.0</td>\n",
       "      <td>126.0</td>\n",
       "      <td>8.3252</td>\n",
       "      <td>NEAR BAY</td>\n",
       "      <td>5</td>\n",
       "    </tr>\n",
       "    <tr>\n",
       "      <th>1</th>\n",
       "      <td>-122.22</td>\n",
       "      <td>37.86</td>\n",
       "      <td>21.0</td>\n",
       "      <td>7099.0</td>\n",
       "      <td>1106.0</td>\n",
       "      <td>2401.0</td>\n",
       "      <td>1138.0</td>\n",
       "      <td>8.3014</td>\n",
       "      <td>NEAR BAY</td>\n",
       "      <td>5</td>\n",
       "    </tr>\n",
       "    <tr>\n",
       "      <th>2</th>\n",
       "      <td>-122.24</td>\n",
       "      <td>37.85</td>\n",
       "      <td>52.0</td>\n",
       "      <td>1467.0</td>\n",
       "      <td>190.0</td>\n",
       "      <td>496.0</td>\n",
       "      <td>177.0</td>\n",
       "      <td>7.2574</td>\n",
       "      <td>NEAR BAY</td>\n",
       "      <td>5</td>\n",
       "    </tr>\n",
       "    <tr>\n",
       "      <th>3</th>\n",
       "      <td>-122.25</td>\n",
       "      <td>37.85</td>\n",
       "      <td>52.0</td>\n",
       "      <td>1274.0</td>\n",
       "      <td>235.0</td>\n",
       "      <td>558.0</td>\n",
       "      <td>219.0</td>\n",
       "      <td>5.6431</td>\n",
       "      <td>NEAR BAY</td>\n",
       "      <td>4</td>\n",
       "    </tr>\n",
       "    <tr>\n",
       "      <th>4</th>\n",
       "      <td>-122.25</td>\n",
       "      <td>37.85</td>\n",
       "      <td>52.0</td>\n",
       "      <td>1627.0</td>\n",
       "      <td>280.0</td>\n",
       "      <td>565.0</td>\n",
       "      <td>259.0</td>\n",
       "      <td>3.8462</td>\n",
       "      <td>NEAR BAY</td>\n",
       "      <td>3</td>\n",
       "    </tr>\n",
       "  </tbody>\n",
       "</table>\n",
       "</div>"
      ],
      "text/plain": [
       "   longitude  latitude  housing_median_age  total_rooms  total_bedrooms  \\\n",
       "0    -122.23     37.88                41.0        880.0           129.0   \n",
       "1    -122.22     37.86                21.0       7099.0          1106.0   \n",
       "2    -122.24     37.85                52.0       1467.0           190.0   \n",
       "3    -122.25     37.85                52.0       1274.0           235.0   \n",
       "4    -122.25     37.85                52.0       1627.0           280.0   \n",
       "\n",
       "   population  households  median_income ocean_proximity median_income_cat  \n",
       "0       322.0       126.0         8.3252        NEAR BAY                 5  \n",
       "1      2401.0      1138.0         8.3014        NEAR BAY                 5  \n",
       "2       496.0       177.0         7.2574        NEAR BAY                 5  \n",
       "3       558.0       219.0         5.6431        NEAR BAY                 4  \n",
       "4       565.0       259.0         3.8462        NEAR BAY                 3  "
      ]
     },
     "execution_count": 14,
     "metadata": {},
     "output_type": "execute_result"
    }
   ],
   "source": [
    "X.head()"
   ]
  },
  {
   "cell_type": "markdown",
   "id": "a1635e66",
   "metadata": {},
   "source": [
    "### Splitting Dataset: Why ???"
   ]
  },
  {
   "cell_type": "code",
   "execution_count": 15,
   "id": "6f3b1341",
   "metadata": {},
   "outputs": [],
   "source": [
    "from sklearn.model_selection import train_test_split\n",
    "\n",
    "X_train, X_test, y_train, y_test = train_test_split(X,y, test_size=0.3)"
   ]
  },
  {
   "cell_type": "code",
   "execution_count": 16,
   "id": "63fe0fc1",
   "metadata": {},
   "outputs": [
    {
     "data": {
      "text/plain": [
       "<AxesSubplot:>"
      ]
     },
     "execution_count": 16,
     "metadata": {},
     "output_type": "execute_result"
    },
    {
     "data": {
      "image/png": "[encoded data removed]",
      "text/plain": [
       "<Figure size 432x288 with 1 Axes>"
      ]
     },
     "metadata": {
      "needs_background": "light"
     },
     "output_type": "display_data"
    }
   ],
   "source": [
    "df1['median_income_cat'].hist()"
   ]
  },
  {
   "cell_type": "code",
   "execution_count": 17,
   "id": "d56bdb8e",
   "metadata": {},
   "outputs": [
    {
     "data": {
      "text/plain": [
       "<AxesSubplot:>"
      ]
     },
     "execution_count": 17,
     "metadata": {},
     "output_type": "execute_result"
    },
    {
     "data": {
      "image/png": "[encoded data removed]",
      "text/plain": [
       "<Figure size 432x288 with 1 Axes>"
      ]
     },
     "metadata": {
      "needs_background": "light"
     },
     "output_type": "display_data"
    }
   ],
   "source": [
    "X_train['median_income_cat'].hist()"
   ]
  },
  {
   "cell_type": "markdown",
   "id": "679ae54a",
   "metadata": {},
   "source": [
    "### Here we try to split in a way that it should follow the approximate distribution which means approximate distribution of data (after split) should be equivalent to otriginal data"
   ]
  },
  {
   "cell_type": "markdown",
   "id": "d10f279b",
   "metadata": {},
   "source": [
    "#### In case it doesnot happening, we will be using stratified split to split the data instead or train test split"
   ]
  },
  {
   "cell_type": "code",
   "execution_count": 18,
   "id": "f3a1b2a6",
   "metadata": {},
   "outputs": [],
   "source": [
    "## lets try it for the sake of learning\n",
    "\n",
    "from sklearn.model_selection import StratifiedShuffleSplit\n",
    "\n",
    "split = StratifiedShuffleSplit(n_splits=1, test_size=0.2, random_state=42)\n",
    "for train_index, test_index in split.split(df1, df1[\"median_income_cat\"]):\n",
    "    strat_train_set = df1.loc[train_index]\n",
    "    strat_test_set = df1.loc[test_index]"
   ]
  },
  {
   "cell_type": "code",
   "execution_count": 19,
   "id": "2d63a1f1",
   "metadata": {},
   "outputs": [
    {
     "data": {
      "text/plain": [
       "3    0.350533\n",
       "2    0.318798\n",
       "4    0.176357\n",
       "5    0.114583\n",
       "1    0.039729\n",
       "Name: median_income_cat, dtype: float64"
      ]
     },
     "execution_count": 19,
     "metadata": {},
     "output_type": "execute_result"
    }
   ],
   "source": [
    "strat_test_set[\"median_income_cat\"].value_counts() / len(strat_test_set)"
   ]
  },
  {
   "cell_type": "code",
   "execution_count": 20,
   "id": "4230dcf5",
   "metadata": {},
   "outputs": [
    {
     "data": {
      "text/plain": [
       "3    0.350581\n",
       "2    0.318847\n",
       "4    0.176308\n",
       "5    0.114438\n",
       "1    0.039826\n",
       "Name: median_income_cat, dtype: float64"
      ]
     },
     "execution_count": 20,
     "metadata": {},
     "output_type": "execute_result"
    }
   ],
   "source": [
    "df1[\"median_income_cat\"].value_counts() / len(df1)"
   ]
  },
  {
   "cell_type": "markdown",
   "id": "1428778c",
   "metadata": {},
   "source": [
    "### Discover and visualize the data to gain insights"
   ]
  },
  {
   "cell_type": "code",
   "execution_count": 21,
   "id": "6b768c55",
   "metadata": {},
   "outputs": [],
   "source": [
    "df1 = strat_train_set.copy()"
   ]
  },
  {
   "cell_type": "code",
   "execution_count": 22,
   "id": "e01ccfaf",
   "metadata": {},
   "outputs": [
    {
     "data": {
      "text/plain": [
       "<AxesSubplot:xlabel='longitude', ylabel='latitude'>"
      ]
     },
     "execution_count": 22,
     "metadata": {},
     "output_type": "execute_result"
    },
    {
     "data": {
      "image/png": "[encoded data removed]",
      "text/plain": [
       "<Figure size 432x288 with 1 Axes>"
      ]
     },
     "metadata": {
      "needs_background": "light"
     },
     "output_type": "display_data"
    }
   ],
   "source": [
    "df1.plot(kind=\"scatter\", x=\"longitude\", y=\"latitude\")"
   ]
  },
  {
   "cell_type": "code",
   "execution_count": 23,
   "id": "898dac6c",
   "metadata": {},
   "outputs": [
    {
     "data": {
      "text/plain": [
       "<matplotlib.legend.Legend at 0x13f7f4b7248>"
      ]
     },
     "execution_count": 23,
     "metadata": {},
     "output_type": "execute_result"
    },
    {
     "data": {
      "image/png": "[encoded data removed]",
      "text/plain": [
       "<Figure size 720x504 with 2 Axes>"
      ]
     },
     "metadata": {
      "needs_background": "light"
     },
     "output_type": "display_data"
    }
   ],
   "source": [
    "df1.plot(kind=\"scatter\", x=\"longitude\", y=\"latitude\", alpha=0.4,\n",
    "    s=df1[\"population\"]/100, label=\"population\", figsize=(10,7),\n",
    "    c=\"median_house_value\", cmap=plt.get_cmap(\"jet\"), colorbar=True,\n",
    "    sharex=False)\n",
    "plt.legend()"
   ]
  },
  {
   "cell_type": "code",
   "execution_count": null,
   "id": "03e4b40f",
   "metadata": {},
   "outputs": [],
   "source": []
  },
  {
   "cell_type": "code",
   "execution_count": 24,
   "id": "59088cf1",
   "metadata": {},
   "outputs": [
    {
     "data": {
      "image/png": "[encoded data removed]",
      "text/plain": [
       "<Figure size 1440x1080 with 9 Axes>"
      ]
     },
     "metadata": {
      "needs_background": "light"
     },
     "output_type": "display_data"
    }
   ],
   "source": [
    "%matplotlib inline\n",
    "df1.hist(bins=50, figsize=(20,15))\n",
    "plt.show()"
   ]
  },
  {
   "cell_type": "code",
   "execution_count": 25,
   "id": "853d5c83",
   "metadata": {},
   "outputs": [
    {
     "data": {
      "text/html": [
       "<div>\n",
       "<style scoped>\n",
       "    .dataframe tbody tr th:only-of-type {\n",
       "        vertical-align: middle;\n",
       "    }\n",
       "\n",
       "    .dataframe tbody tr th {\n",
       "        vertical-align: top;\n",
       "    }\n",
       "\n",
       "    .dataframe thead th {\n",
       "        text-align: right;\n",
       "    }\n",
       "</style>\n",
       "<table border=\"1\" class=\"dataframe\">\n",
       "  <thead>\n",
       "    <tr style=\"text-align: right;\">\n",
       "      <th></th>\n",
       "      <th>longitude</th>\n",
       "      <th>latitude</th>\n",
       "      <th>housing_median_age</th>\n",
       "      <th>total_rooms</th>\n",
       "      <th>total_bedrooms</th>\n",
       "      <th>population</th>\n",
       "      <th>households</th>\n",
       "      <th>median_income</th>\n",
       "      <th>median_house_value</th>\n",
       "      <th>ocean_proximity</th>\n",
       "      <th>median_income_cat</th>\n",
       "    </tr>\n",
       "  </thead>\n",
       "  <tbody>\n",
       "    <tr>\n",
       "      <th>17606</th>\n",
       "      <td>-121.89</td>\n",
       "      <td>37.29</td>\n",
       "      <td>38.0</td>\n",
       "      <td>1568.0</td>\n",
       "      <td>351.0</td>\n",
       "      <td>710.0</td>\n",
       "      <td>339.0</td>\n",
       "      <td>2.7042</td>\n",
       "      <td>286600.0</td>\n",
       "      <td>&lt;1H OCEAN</td>\n",
       "      <td>2</td>\n",
       "    </tr>\n",
       "    <tr>\n",
       "      <th>18632</th>\n",
       "      <td>-121.93</td>\n",
       "      <td>37.05</td>\n",
       "      <td>14.0</td>\n",
       "      <td>679.0</td>\n",
       "      <td>108.0</td>\n",
       "      <td>306.0</td>\n",
       "      <td>113.0</td>\n",
       "      <td>6.4214</td>\n",
       "      <td>340600.0</td>\n",
       "      <td>&lt;1H OCEAN</td>\n",
       "      <td>5</td>\n",
       "    </tr>\n",
       "    <tr>\n",
       "      <th>14650</th>\n",
       "      <td>-117.20</td>\n",
       "      <td>32.77</td>\n",
       "      <td>31.0</td>\n",
       "      <td>1952.0</td>\n",
       "      <td>471.0</td>\n",
       "      <td>936.0</td>\n",
       "      <td>462.0</td>\n",
       "      <td>2.8621</td>\n",
       "      <td>196900.0</td>\n",
       "      <td>NEAR OCEAN</td>\n",
       "      <td>2</td>\n",
       "    </tr>\n",
       "    <tr>\n",
       "      <th>3230</th>\n",
       "      <td>-119.61</td>\n",
       "      <td>36.31</td>\n",
       "      <td>25.0</td>\n",
       "      <td>1847.0</td>\n",
       "      <td>371.0</td>\n",
       "      <td>1460.0</td>\n",
       "      <td>353.0</td>\n",
       "      <td>1.8839</td>\n",
       "      <td>46300.0</td>\n",
       "      <td>INLAND</td>\n",
       "      <td>2</td>\n",
       "    </tr>\n",
       "    <tr>\n",
       "      <th>3555</th>\n",
       "      <td>-118.59</td>\n",
       "      <td>34.23</td>\n",
       "      <td>17.0</td>\n",
       "      <td>6592.0</td>\n",
       "      <td>1525.0</td>\n",
       "      <td>4459.0</td>\n",
       "      <td>1463.0</td>\n",
       "      <td>3.0347</td>\n",
       "      <td>254500.0</td>\n",
       "      <td>&lt;1H OCEAN</td>\n",
       "      <td>3</td>\n",
       "    </tr>\n",
       "  </tbody>\n",
       "</table>\n",
       "</div>"
      ],
      "text/plain": [
       "       longitude  latitude  housing_median_age  total_rooms  total_bedrooms  \\\n",
       "17606    -121.89     37.29                38.0       1568.0           351.0   \n",
       "18632    -121.93     37.05                14.0        679.0           108.0   \n",
       "14650    -117.20     32.77                31.0       1952.0           471.0   \n",
       "3230     -119.61     36.31                25.0       1847.0           371.0   \n",
       "3555     -118.59     34.23                17.0       6592.0          1525.0   \n",
       "\n",
       "       population  households  median_income  median_house_value  \\\n",
       "17606       710.0       339.0         2.7042            286600.0   \n",
       "18632       306.0       113.0         6.4214            340600.0   \n",
       "14650       936.0       462.0         2.8621            196900.0   \n",
       "3230       1460.0       353.0         1.8839             46300.0   \n",
       "3555       4459.0      1463.0         3.0347            254500.0   \n",
       "\n",
       "      ocean_proximity median_income_cat  \n",
       "17606       <1H OCEAN                 2  \n",
       "18632       <1H OCEAN                 5  \n",
       "14650      NEAR OCEAN                 2  \n",
       "3230           INLAND                 2  \n",
       "3555        <1H OCEAN                 3  "
      ]
     },
     "execution_count": 25,
     "metadata": {},
     "output_type": "execute_result"
    }
   ],
   "source": [
    "df1.head()"
   ]
  },
  {
   "cell_type": "code",
   "execution_count": 26,
   "id": "cf9c3ee1",
   "metadata": {},
   "outputs": [
    {
     "data": {
      "text/plain": [
       "<AxesSubplot:>"
      ]
     },
     "execution_count": 26,
     "metadata": {},
     "output_type": "execute_result"
    },
    {
     "data": {
      "image/png": "[encoded data removed]",
      "text/plain": [
       "<Figure size 432x288 with 1 Axes>"
      ]
     },
     "metadata": {
      "needs_background": "light"
     },
     "output_type": "display_data"
    }
   ],
   "source": [
    "df1.median_income.hist(bins=50)"
   ]
  },
  {
   "cell_type": "markdown",
   "id": "48ff66b3",
   "metadata": {},
   "source": [
    "### Correlations Matrices"
   ]
  },
  {
   "cell_type": "code",
   "execution_count": 27,
   "id": "d669f78f",
   "metadata": {},
   "outputs": [],
   "source": [
    "corr_matrix = df1.corr()"
   ]
  },
  {
   "cell_type": "code",
   "execution_count": 28,
   "id": "649901b1",
   "metadata": {},
   "outputs": [
    {
     "data": {
      "text/plain": [
       "median_house_value    1.000000\n",
       "median_income         0.687160\n",
       "total_rooms           0.135097\n",
       "housing_median_age    0.114110\n",
       "households            0.064506\n",
       "total_bedrooms        0.047689\n",
       "population           -0.026920\n",
       "longitude            -0.047432\n",
       "latitude             -0.142724\n",
       "Name: median_house_value, dtype: float64"
      ]
     },
     "execution_count": 28,
     "metadata": {},
     "output_type": "execute_result"
    }
   ],
   "source": [
    "corr_matrix[\"median_house_value\"].sort_values(ascending=False)"
   ]
  },
  {
   "cell_type": "code",
   "execution_count": 29,
   "id": "4fa8edf0",
   "metadata": {},
   "outputs": [],
   "source": [
    "import seaborn as sns"
   ]
  },
  {
   "cell_type": "code",
   "execution_count": 30,
   "id": "d7f7972c",
   "metadata": {},
   "outputs": [
    {
     "data": {
      "text/plain": [
       "<AxesSubplot:>"
      ]
     },
     "execution_count": 30,
     "metadata": {},
     "output_type": "execute_result"
    },
    {
     "data": {
      "image/png": "[encoded data removed]",
      "text/plain": [
       "<Figure size 792x1368 with 2 Axes>"
      ]
     },
     "metadata": {
      "needs_background": "light"
     },
     "output_type": "display_data"
    }
   ],
   "source": [
    "corr = df1.corr()\n",
    "mask = np.triu(np.ones_like(corr,dtype=bool))\n",
    "\n",
    "f, ax = plt.subplots(figsize = (11,19))\n",
    "cmap = sns.diverging_palette(230,20,as_cmap=True)\n",
    "\n",
    "sns.heatmap(corr, mask=mask,cmap=cmap,vmax =3,center =0,square =True,linewidth =.5,cbar_kws={\"shrink\":.5})"
   ]
  },
  {
   "cell_type": "markdown",
   "id": "0e840033",
   "metadata": {},
   "source": [
    "### Observations::\n",
    "\n",
    "As we know that this correlation coefficient (You can go to my video, where I have explained about this oin detail thorugh the link given below for deeper understanding) works from +1 to -1, which means +1 is the directly propotional to the given feature while inversely propotional in other case. Imp observations are:\n",
    "\n",
    "1. Median_house_value has strong +ve relationship with median_income.\n",
    "2. households has strong +ve relationship with total_rooms,total_bedrooms and population feature."
   ]
  },
  {
   "cell_type": "markdown",
   "id": "862d98aa",
   "metadata": {},
   "source": [
    "### Keeping all these in mind, Preparing data for Machine learning Algorithm ....!!!!"
   ]
  },
  {
   "cell_type": "code",
   "execution_count": 31,
   "id": "066c19f9",
   "metadata": {},
   "outputs": [
    {
     "data": {
      "text/html": [
       "<div>\n",
       "<style scoped>\n",
       "    .dataframe tbody tr th:only-of-type {\n",
       "        vertical-align: middle;\n",
       "    }\n",
       "\n",
       "    .dataframe tbody tr th {\n",
       "        vertical-align: top;\n",
       "    }\n",
       "\n",
       "    .dataframe thead th {\n",
       "        text-align: right;\n",
       "    }\n",
       "</style>\n",
       "<table border=\"1\" class=\"dataframe\">\n",
       "  <thead>\n",
       "    <tr style=\"text-align: right;\">\n",
       "      <th></th>\n",
       "      <th>longitude</th>\n",
       "      <th>latitude</th>\n",
       "      <th>housing_median_age</th>\n",
       "      <th>total_rooms</th>\n",
       "      <th>total_bedrooms</th>\n",
       "      <th>population</th>\n",
       "      <th>households</th>\n",
       "      <th>median_income</th>\n",
       "      <th>median_house_value</th>\n",
       "      <th>ocean_proximity</th>\n",
       "      <th>median_income_cat</th>\n",
       "    </tr>\n",
       "  </thead>\n",
       "  <tbody>\n",
       "    <tr>\n",
       "      <th>17606</th>\n",
       "      <td>-121.89</td>\n",
       "      <td>37.29</td>\n",
       "      <td>38.0</td>\n",
       "      <td>1568.0</td>\n",
       "      <td>351.0</td>\n",
       "      <td>710.0</td>\n",
       "      <td>339.0</td>\n",
       "      <td>2.7042</td>\n",
       "      <td>286600.0</td>\n",
       "      <td>&lt;1H OCEAN</td>\n",
       "      <td>2</td>\n",
       "    </tr>\n",
       "    <tr>\n",
       "      <th>18632</th>\n",
       "      <td>-121.93</td>\n",
       "      <td>37.05</td>\n",
       "      <td>14.0</td>\n",
       "      <td>679.0</td>\n",
       "      <td>108.0</td>\n",
       "      <td>306.0</td>\n",
       "      <td>113.0</td>\n",
       "      <td>6.4214</td>\n",
       "      <td>340600.0</td>\n",
       "      <td>&lt;1H OCEAN</td>\n",
       "      <td>5</td>\n",
       "    </tr>\n",
       "    <tr>\n",
       "      <th>14650</th>\n",
       "      <td>-117.20</td>\n",
       "      <td>32.77</td>\n",
       "      <td>31.0</td>\n",
       "      <td>1952.0</td>\n",
       "      <td>471.0</td>\n",
       "      <td>936.0</td>\n",
       "      <td>462.0</td>\n",
       "      <td>2.8621</td>\n",
       "      <td>196900.0</td>\n",
       "      <td>NEAR OCEAN</td>\n",
       "      <td>2</td>\n",
       "    </tr>\n",
       "    <tr>\n",
       "      <th>3230</th>\n",
       "      <td>-119.61</td>\n",
       "      <td>36.31</td>\n",
       "      <td>25.0</td>\n",
       "      <td>1847.0</td>\n",
       "      <td>371.0</td>\n",
       "      <td>1460.0</td>\n",
       "      <td>353.0</td>\n",
       "      <td>1.8839</td>\n",
       "      <td>46300.0</td>\n",
       "      <td>INLAND</td>\n",
       "      <td>2</td>\n",
       "    </tr>\n",
       "    <tr>\n",
       "      <th>3555</th>\n",
       "      <td>-118.59</td>\n",
       "      <td>34.23</td>\n",
       "      <td>17.0</td>\n",
       "      <td>6592.0</td>\n",
       "      <td>1525.0</td>\n",
       "      <td>4459.0</td>\n",
       "      <td>1463.0</td>\n",
       "      <td>3.0347</td>\n",
       "      <td>254500.0</td>\n",
       "      <td>&lt;1H OCEAN</td>\n",
       "      <td>3</td>\n",
       "    </tr>\n",
       "  </tbody>\n",
       "</table>\n",
       "</div>"
      ],
      "text/plain": [
       "       longitude  latitude  housing_median_age  total_rooms  total_bedrooms  \\\n",
       "17606    -121.89     37.29                38.0       1568.0           351.0   \n",
       "18632    -121.93     37.05                14.0        679.0           108.0   \n",
       "14650    -117.20     32.77                31.0       1952.0           471.0   \n",
       "3230     -119.61     36.31                25.0       1847.0           371.0   \n",
       "3555     -118.59     34.23                17.0       6592.0          1525.0   \n",
       "\n",
       "       population  households  median_income  median_house_value  \\\n",
       "17606       710.0       339.0         2.7042            286600.0   \n",
       "18632       306.0       113.0         6.4214            340600.0   \n",
       "14650       936.0       462.0         2.8621            196900.0   \n",
       "3230       1460.0       353.0         1.8839             46300.0   \n",
       "3555       4459.0      1463.0         3.0347            254500.0   \n",
       "\n",
       "      ocean_proximity median_income_cat  \n",
       "17606       <1H OCEAN                 2  \n",
       "18632       <1H OCEAN                 5  \n",
       "14650      NEAR OCEAN                 2  \n",
       "3230           INLAND                 2  \n",
       "3555        <1H OCEAN                 3  "
      ]
     },
     "execution_count": 31,
     "metadata": {},
     "output_type": "execute_result"
    }
   ],
   "source": [
    "strat_train_set.head()"
   ]
  },
  {
   "cell_type": "code",
   "execution_count": 32,
   "id": "b13541fe",
   "metadata": {},
   "outputs": [],
   "source": [
    "#again taking X and y\n",
    "\n",
    "X = strat_train_set.drop(['median_income_cat','median_house_value'],axis =1)\n",
    "y = strat_train_set['median_house_value']"
   ]
  },
  {
   "cell_type": "markdown",
   "id": "e912fb36",
   "metadata": {},
   "source": [
    "### Now there are 4 things which we need to taken care of:\n",
    "\n",
    "1. Feature Engineering: Which means create new informative columns from existing columns using domain knowldge\n",
    "\n",
    "2. Imputation: Insert values inplace of missing values\n",
    "\n",
    "3. Encoding categorical Data: Transforming categorical data into some numerical variations\n",
    "\n",
    "4. Scaling: Apply a scaler that transform all of our data on numerical scale"
   ]
  },
  {
   "cell_type": "code",
   "execution_count": null,
   "id": "63a0a5ea",
   "metadata": {},
   "outputs": [],
   "source": []
  },
  {
   "cell_type": "code",
   "execution_count": 33,
   "id": "08c453dc",
   "metadata": {},
   "outputs": [],
   "source": [
    "## Starting with imputing values inplace of nan values:\n",
    "\n",
    "### We can cater it through 1. remove rows having nan values or impute mean/median/mode inplace of Nans"
   ]
  },
  {
   "cell_type": "code",
   "execution_count": 34,
   "id": "db023ed2",
   "metadata": {},
   "outputs": [
    {
     "data": {
      "image/png": "[encoded data removed]",
      "text/plain": [
       "<Figure size 504x360 with 1 Axes>"
      ]
     },
     "metadata": {
      "needs_background": "light"
     },
     "output_type": "display_data"
    },
    {
     "data": {
      "text/plain": [
       "<AxesSubplot:title={'center':'Percentages of Null values in Dataset'}>"
      ]
     },
     "execution_count": 34,
     "metadata": {},
     "output_type": "execute_result"
    }
   ],
   "source": [
    "# We will be imputing median values.\n",
    "\n",
    "def plotNull(dataset):\n",
    "    null_Values = (dataset.isnull().sum() / len(dataset)) * 100\n",
    "    try:\n",
    "    # droping columns having null percentage to 0\n",
    "        null_Values = round(null_Values.drop(null_Values[null_Values == 0].index)).sort_values(ascending =\n",
    "        False)\n",
    "        # plotting the bar plot of NULL %\n",
    "        plt.figure(figsize = (7,5))\n",
    "        null_plot = sns.barplot(x = null_Values.index , y = null_Values)\n",
    "        plt.xticks(rotation = \"90\")\n",
    "        plt.title(\"Percentages of Null values in Dataset\")\n",
    "        plt.show()\n",
    "    except:\n",
    "        print(\"There is NO null values in the dataset\")\n",
    "        print(\"Returning the dataset....\")\n",
    "        return dataset\n",
    "    return null_plot\n",
    "plotNull(X)"
   ]
  },
  {
   "cell_type": "code",
   "execution_count": 35,
   "id": "ec8ad61e",
   "metadata": {},
   "outputs": [
    {
     "data": {
      "text/plain": [
       "longitude               0\n",
       "latitude                0\n",
       "housing_median_age      0\n",
       "total_rooms             0\n",
       "total_bedrooms        158\n",
       "population              0\n",
       "households              0\n",
       "median_income           0\n",
       "ocean_proximity         0\n",
       "dtype: int64"
      ]
     },
     "execution_count": 35,
     "metadata": {},
     "output_type": "execute_result"
    }
   ],
   "source": [
    "## total bedrooms only have null values; 158 of them\n",
    "\n",
    "X.isna().sum()"
   ]
  },
  {
   "cell_type": "code",
   "execution_count": 36,
   "id": "78e2503b",
   "metadata": {},
   "outputs": [],
   "source": [
    "from sklearn.impute import SimpleImputer\n",
    "imputer = SimpleImputer(strategy = \"median\")"
   ]
  },
  {
   "cell_type": "code",
   "execution_count": 37,
   "id": "4871a69c",
   "metadata": {},
   "outputs": [
    {
     "data": {
      "text/html": [
       "<div>\n",
       "<style scoped>\n",
       "    .dataframe tbody tr th:only-of-type {\n",
       "        vertical-align: middle;\n",
       "    }\n",
       "\n",
       "    .dataframe tbody tr th {\n",
       "        vertical-align: top;\n",
       "    }\n",
       "\n",
       "    .dataframe thead th {\n",
       "        text-align: right;\n",
       "    }\n",
       "</style>\n",
       "<table border=\"1\" class=\"dataframe\">\n",
       "  <thead>\n",
       "    <tr style=\"text-align: right;\">\n",
       "      <th></th>\n",
       "      <th>longitude</th>\n",
       "      <th>latitude</th>\n",
       "      <th>housing_median_age</th>\n",
       "      <th>total_rooms</th>\n",
       "      <th>total_bedrooms</th>\n",
       "      <th>population</th>\n",
       "      <th>households</th>\n",
       "      <th>median_income</th>\n",
       "      <th>median_house_value</th>\n",
       "    </tr>\n",
       "  </thead>\n",
       "  <tbody>\n",
       "    <tr>\n",
       "      <th>17606</th>\n",
       "      <td>-121.89</td>\n",
       "      <td>37.29</td>\n",
       "      <td>38.0</td>\n",
       "      <td>1568.0</td>\n",
       "      <td>351.0</td>\n",
       "      <td>710.0</td>\n",
       "      <td>339.0</td>\n",
       "      <td>2.7042</td>\n",
       "      <td>286600.0</td>\n",
       "    </tr>\n",
       "    <tr>\n",
       "      <th>18632</th>\n",
       "      <td>-121.93</td>\n",
       "      <td>37.05</td>\n",
       "      <td>14.0</td>\n",
       "      <td>679.0</td>\n",
       "      <td>108.0</td>\n",
       "      <td>306.0</td>\n",
       "      <td>113.0</td>\n",
       "      <td>6.4214</td>\n",
       "      <td>340600.0</td>\n",
       "    </tr>\n",
       "    <tr>\n",
       "      <th>14650</th>\n",
       "      <td>-117.20</td>\n",
       "      <td>32.77</td>\n",
       "      <td>31.0</td>\n",
       "      <td>1952.0</td>\n",
       "      <td>471.0</td>\n",
       "      <td>936.0</td>\n",
       "      <td>462.0</td>\n",
       "      <td>2.8621</td>\n",
       "      <td>196900.0</td>\n",
       "    </tr>\n",
       "    <tr>\n",
       "      <th>3230</th>\n",
       "      <td>-119.61</td>\n",
       "      <td>36.31</td>\n",
       "      <td>25.0</td>\n",
       "      <td>1847.0</td>\n",
       "      <td>371.0</td>\n",
       "      <td>1460.0</td>\n",
       "      <td>353.0</td>\n",
       "      <td>1.8839</td>\n",
       "      <td>46300.0</td>\n",
       "    </tr>\n",
       "    <tr>\n",
       "      <th>3555</th>\n",
       "      <td>-118.59</td>\n",
       "      <td>34.23</td>\n",
       "      <td>17.0</td>\n",
       "      <td>6592.0</td>\n",
       "      <td>1525.0</td>\n",
       "      <td>4459.0</td>\n",
       "      <td>1463.0</td>\n",
       "      <td>3.0347</td>\n",
       "      <td>254500.0</td>\n",
       "    </tr>\n",
       "  </tbody>\n",
       "</table>\n",
       "</div>"
      ],
      "text/plain": [
       "       longitude  latitude  housing_median_age  total_rooms  total_bedrooms  \\\n",
       "17606    -121.89     37.29                38.0       1568.0           351.0   \n",
       "18632    -121.93     37.05                14.0        679.0           108.0   \n",
       "14650    -117.20     32.77                31.0       1952.0           471.0   \n",
       "3230     -119.61     36.31                25.0       1847.0           371.0   \n",
       "3555     -118.59     34.23                17.0       6592.0          1525.0   \n",
       "\n",
       "       population  households  median_income  median_house_value  \n",
       "17606       710.0       339.0         2.7042            286600.0  \n",
       "18632       306.0       113.0         6.4214            340600.0  \n",
       "14650       936.0       462.0         2.8621            196900.0  \n",
       "3230       1460.0       353.0         1.8839             46300.0  \n",
       "3555       4459.0      1463.0         3.0347            254500.0  "
      ]
     },
     "execution_count": 37,
     "metadata": {},
     "output_type": "execute_result"
    }
   ],
   "source": [
    "housing_num = df1.select_dtypes(include=[np.number])\n",
    "housing_num.head()"
   ]
  },
  {
   "cell_type": "code",
   "execution_count": 38,
   "id": "93fdd099",
   "metadata": {},
   "outputs": [
    {
     "data": {
      "text/plain": [
       "SimpleImputer(strategy='median')"
      ]
     },
     "execution_count": 38,
     "metadata": {},
     "output_type": "execute_result"
    }
   ],
   "source": [
    "imputer.fit(housing_num)"
   ]
  },
  {
   "cell_type": "code",
   "execution_count": 39,
   "id": "3ec7c73e",
   "metadata": {},
   "outputs": [],
   "source": [
    "X = imputer.transform(housing_num)"
   ]
  },
  {
   "cell_type": "code",
   "execution_count": 40,
   "id": "d139db85",
   "metadata": {},
   "outputs": [
    {
     "data": {
      "text/plain": [
       "array([[-1.21890e+02,  3.72900e+01,  3.80000e+01, ...,  3.39000e+02,\n",
       "         2.70420e+00,  2.86600e+05],\n",
       "       [-1.21930e+02,  3.70500e+01,  1.40000e+01, ...,  1.13000e+02,\n",
       "         6.42140e+00,  3.40600e+05],\n",
       "       [-1.17200e+02,  3.27700e+01,  3.10000e+01, ...,  4.62000e+02,\n",
       "         2.86210e+00,  1.96900e+05],\n",
       "       ...,\n",
       "       [-1.16400e+02,  3.40900e+01,  9.00000e+00, ...,  7.65000e+02,\n",
       "         3.27230e+00,  9.78000e+04],\n",
       "       [-1.18010e+02,  3.38200e+01,  3.10000e+01, ...,  3.56000e+02,\n",
       "         4.06250e+00,  2.25900e+05],\n",
       "       [-1.22450e+02,  3.77700e+01,  5.20000e+01, ...,  6.39000e+02,\n",
       "         3.57500e+00,  5.00001e+05]])"
      ]
     },
     "execution_count": 40,
     "metadata": {},
     "output_type": "execute_result"
    }
   ],
   "source": [
    "X"
   ]
  },
  {
   "cell_type": "code",
   "execution_count": 41,
   "id": "4cd2c57a",
   "metadata": {},
   "outputs": [
    {
     "data": {
      "text/html": [
       "<div>\n",
       "<style scoped>\n",
       "    .dataframe tbody tr th:only-of-type {\n",
       "        vertical-align: middle;\n",
       "    }\n",
       "\n",
       "    .dataframe tbody tr th {\n",
       "        vertical-align: top;\n",
       "    }\n",
       "\n",
       "    .dataframe thead th {\n",
       "        text-align: right;\n",
       "    }\n",
       "</style>\n",
       "<table border=\"1\" class=\"dataframe\">\n",
       "  <thead>\n",
       "    <tr style=\"text-align: right;\">\n",
       "      <th></th>\n",
       "      <th>longitude</th>\n",
       "      <th>latitude</th>\n",
       "      <th>housing_median_age</th>\n",
       "      <th>total_rooms</th>\n",
       "      <th>total_bedrooms</th>\n",
       "      <th>population</th>\n",
       "      <th>households</th>\n",
       "      <th>median_income</th>\n",
       "      <th>median_house_value</th>\n",
       "    </tr>\n",
       "  </thead>\n",
       "  <tbody>\n",
       "    <tr>\n",
       "      <th>17606</th>\n",
       "      <td>-121.89</td>\n",
       "      <td>37.29</td>\n",
       "      <td>38.0</td>\n",
       "      <td>1568.0</td>\n",
       "      <td>351.0</td>\n",
       "      <td>710.0</td>\n",
       "      <td>339.0</td>\n",
       "      <td>2.7042</td>\n",
       "      <td>286600.0</td>\n",
       "    </tr>\n",
       "    <tr>\n",
       "      <th>18632</th>\n",
       "      <td>-121.93</td>\n",
       "      <td>37.05</td>\n",
       "      <td>14.0</td>\n",
       "      <td>679.0</td>\n",
       "      <td>108.0</td>\n",
       "      <td>306.0</td>\n",
       "      <td>113.0</td>\n",
       "      <td>6.4214</td>\n",
       "      <td>340600.0</td>\n",
       "    </tr>\n",
       "    <tr>\n",
       "      <th>14650</th>\n",
       "      <td>-117.20</td>\n",
       "      <td>32.77</td>\n",
       "      <td>31.0</td>\n",
       "      <td>1952.0</td>\n",
       "      <td>471.0</td>\n",
       "      <td>936.0</td>\n",
       "      <td>462.0</td>\n",
       "      <td>2.8621</td>\n",
       "      <td>196900.0</td>\n",
       "    </tr>\n",
       "    <tr>\n",
       "      <th>3230</th>\n",
       "      <td>-119.61</td>\n",
       "      <td>36.31</td>\n",
       "      <td>25.0</td>\n",
       "      <td>1847.0</td>\n",
       "      <td>371.0</td>\n",
       "      <td>1460.0</td>\n",
       "      <td>353.0</td>\n",
       "      <td>1.8839</td>\n",
       "      <td>46300.0</td>\n",
       "    </tr>\n",
       "    <tr>\n",
       "      <th>3555</th>\n",
       "      <td>-118.59</td>\n",
       "      <td>34.23</td>\n",
       "      <td>17.0</td>\n",
       "      <td>6592.0</td>\n",
       "      <td>1525.0</td>\n",
       "      <td>4459.0</td>\n",
       "      <td>1463.0</td>\n",
       "      <td>3.0347</td>\n",
       "      <td>254500.0</td>\n",
       "    </tr>\n",
       "  </tbody>\n",
       "</table>\n",
       "</div>"
      ],
      "text/plain": [
       "       longitude  latitude  housing_median_age  total_rooms  total_bedrooms  \\\n",
       "17606    -121.89     37.29                38.0       1568.0           351.0   \n",
       "18632    -121.93     37.05                14.0        679.0           108.0   \n",
       "14650    -117.20     32.77                31.0       1952.0           471.0   \n",
       "3230     -119.61     36.31                25.0       1847.0           371.0   \n",
       "3555     -118.59     34.23                17.0       6592.0          1525.0   \n",
       "\n",
       "       population  households  median_income  median_house_value  \n",
       "17606       710.0       339.0         2.7042            286600.0  \n",
       "18632       306.0       113.0         6.4214            340600.0  \n",
       "14650       936.0       462.0         2.8621            196900.0  \n",
       "3230       1460.0       353.0         1.8839             46300.0  \n",
       "3555       4459.0      1463.0         3.0347            254500.0  "
      ]
     },
     "execution_count": 41,
     "metadata": {},
     "output_type": "execute_result"
    }
   ],
   "source": [
    "housing_tr = pd.DataFrame(X, columns = housing_num.columns, index = housing_num.index )\n",
    "housing_tr.head()"
   ]
  },
  {
   "cell_type": "code",
   "execution_count": 42,
   "id": "25b593d2",
   "metadata": {},
   "outputs": [
    {
     "data": {
      "text/plain": [
       "longitude             0\n",
       "latitude              0\n",
       "housing_median_age    0\n",
       "total_rooms           0\n",
       "total_bedrooms        0\n",
       "population            0\n",
       "households            0\n",
       "median_income         0\n",
       "median_house_value    0\n",
       "dtype: int64"
      ]
     },
     "execution_count": 42,
     "metadata": {},
     "output_type": "execute_result"
    }
   ],
   "source": [
    "\n",
    "housing_tr.isna().sum()"
   ]
  },
  {
   "cell_type": "markdown",
   "id": "b950336b",
   "metadata": {},
   "source": [
    "### Encode Categorical Variables\n",
    "\n",
    "There are different encoding techniques to encode categorical data for e.g. Onehot encoding, mean encoding, Ordinal Encoding.\n",
    "\n",
    "But for this project we will be using OHE because this is not a very big data set column wise we can afford more columns"
   ]
  },
  {
   "cell_type": "code",
   "execution_count": 43,
   "id": "2619dd0e",
   "metadata": {},
   "outputs": [],
   "source": [
    "housing_cat = df1[['ocean_proximity']]"
   ]
  },
  {
   "cell_type": "code",
   "execution_count": 44,
   "id": "ebf0432f",
   "metadata": {},
   "outputs": [],
   "source": [
    "from sklearn.preprocessing import OneHotEncoder\n",
    "\n",
    "\n",
    "cat_encoder = OneHotEncoder(sparse =False)\n",
    "housing_1hot = cat_encoder.fit_transform(housing_cat)"
   ]
  },
  {
   "cell_type": "code",
   "execution_count": 45,
   "id": "0e0c4c65",
   "metadata": {},
   "outputs": [
    {
     "data": {
      "text/plain": [
       "array([[1., 0., 0., 0., 0.],\n",
       "       [1., 0., 0., 0., 0.],\n",
       "       [0., 0., 0., 0., 1.],\n",
       "       ...,\n",
       "       [0., 1., 0., 0., 0.],\n",
       "       [1., 0., 0., 0., 0.],\n",
       "       [0., 0., 0., 1., 0.]])"
      ]
     },
     "execution_count": 45,
     "metadata": {},
     "output_type": "execute_result"
    }
   ],
   "source": [
    "housing_1hot"
   ]
  },
  {
   "cell_type": "code",
   "execution_count": 46,
   "id": "7d3e2836",
   "metadata": {},
   "outputs": [
    {
     "data": {
      "text/plain": [
       "[array(['<1H OCEAN', 'INLAND', 'ISLAND', 'NEAR BAY', 'NEAR OCEAN'],\n",
       "       dtype=object)]"
      ]
     },
     "execution_count": 46,
     "metadata": {},
     "output_type": "execute_result"
    }
   ],
   "source": [
    "cat_encoder.categories_"
   ]
  },
  {
   "cell_type": "markdown",
   "id": "929902a2",
   "metadata": {},
   "source": [
    "### Feature Engineering"
   ]
  },
  {
   "cell_type": "markdown",
   "id": "ddc2075e",
   "metadata": {},
   "source": [
    "Feature engineering is the science of using domain knowldge to create new features (columns) of data using raw data. This can be key to improving the performance of your machine learning models."
   ]
  },
  {
   "cell_type": "code",
   "execution_count": 47,
   "id": "e54d4a3c",
   "metadata": {},
   "outputs": [],
   "source": [
    "def feature_engineer(data):\n",
    "    data['Bedrooms_per_household'] = data['total_bedrooms'] / data['households'] \n",
    "    data['population_per_household'] = data['population'] / data['households']\n",
    "    data['rooms_per_household'] = data['total_rooms'] / data['households']\n",
    "    \n",
    "    return data"
   ]
  },
  {
   "cell_type": "code",
   "execution_count": 48,
   "id": "aa2f5a96",
   "metadata": {},
   "outputs": [
    {
     "name": "stderr",
     "output_type": "stream",
     "text": [
      "c:\\users\\affan\\.conda\\envs\\newenv\\lib\\site-packages\\ipykernel_launcher.py:2: SettingWithCopyWarning: \n",
      "A value is trying to be set on a copy of a slice from a DataFrame.\n",
      "Try using .loc[row_indexer,col_indexer] = value instead\n",
      "\n",
      "See the caveats in the documentation: https://pandas.pydata.org/pandas-docs/stable/user_guide/indexing.html#returning-a-view-versus-a-copy\n",
      "  \n"
     ]
    },
    {
     "data": {
      "text/html": [
       "<div>\n",
       "<style scoped>\n",
       "    .dataframe tbody tr th:only-of-type {\n",
       "        vertical-align: middle;\n",
       "    }\n",
       "\n",
       "    .dataframe tbody tr th {\n",
       "        vertical-align: top;\n",
       "    }\n",
       "\n",
       "    .dataframe thead th {\n",
       "        text-align: right;\n",
       "    }\n",
       "</style>\n",
       "<table border=\"1\" class=\"dataframe\">\n",
       "  <thead>\n",
       "    <tr style=\"text-align: right;\">\n",
       "      <th></th>\n",
       "      <th>longitude</th>\n",
       "      <th>latitude</th>\n",
       "      <th>housing_median_age</th>\n",
       "      <th>total_rooms</th>\n",
       "      <th>total_bedrooms</th>\n",
       "      <th>population</th>\n",
       "      <th>households</th>\n",
       "      <th>median_income</th>\n",
       "      <th>median_house_value</th>\n",
       "      <th>Bedrooms_per_household</th>\n",
       "      <th>population_per_household</th>\n",
       "      <th>rooms_per_household</th>\n",
       "    </tr>\n",
       "  </thead>\n",
       "  <tbody>\n",
       "    <tr>\n",
       "      <th>17606</th>\n",
       "      <td>-121.89</td>\n",
       "      <td>37.29</td>\n",
       "      <td>38.0</td>\n",
       "      <td>1568.0</td>\n",
       "      <td>351.0</td>\n",
       "      <td>710.0</td>\n",
       "      <td>339.0</td>\n",
       "      <td>2.7042</td>\n",
       "      <td>286600.0</td>\n",
       "      <td>1.035398</td>\n",
       "      <td>2.094395</td>\n",
       "      <td>4.625369</td>\n",
       "    </tr>\n",
       "    <tr>\n",
       "      <th>18632</th>\n",
       "      <td>-121.93</td>\n",
       "      <td>37.05</td>\n",
       "      <td>14.0</td>\n",
       "      <td>679.0</td>\n",
       "      <td>108.0</td>\n",
       "      <td>306.0</td>\n",
       "      <td>113.0</td>\n",
       "      <td>6.4214</td>\n",
       "      <td>340600.0</td>\n",
       "      <td>0.955752</td>\n",
       "      <td>2.707965</td>\n",
       "      <td>6.008850</td>\n",
       "    </tr>\n",
       "    <tr>\n",
       "      <th>14650</th>\n",
       "      <td>-117.20</td>\n",
       "      <td>32.77</td>\n",
       "      <td>31.0</td>\n",
       "      <td>1952.0</td>\n",
       "      <td>471.0</td>\n",
       "      <td>936.0</td>\n",
       "      <td>462.0</td>\n",
       "      <td>2.8621</td>\n",
       "      <td>196900.0</td>\n",
       "      <td>1.019481</td>\n",
       "      <td>2.025974</td>\n",
       "      <td>4.225108</td>\n",
       "    </tr>\n",
       "    <tr>\n",
       "      <th>3230</th>\n",
       "      <td>-119.61</td>\n",
       "      <td>36.31</td>\n",
       "      <td>25.0</td>\n",
       "      <td>1847.0</td>\n",
       "      <td>371.0</td>\n",
       "      <td>1460.0</td>\n",
       "      <td>353.0</td>\n",
       "      <td>1.8839</td>\n",
       "      <td>46300.0</td>\n",
       "      <td>1.050992</td>\n",
       "      <td>4.135977</td>\n",
       "      <td>5.232295</td>\n",
       "    </tr>\n",
       "    <tr>\n",
       "      <th>3555</th>\n",
       "      <td>-118.59</td>\n",
       "      <td>34.23</td>\n",
       "      <td>17.0</td>\n",
       "      <td>6592.0</td>\n",
       "      <td>1525.0</td>\n",
       "      <td>4459.0</td>\n",
       "      <td>1463.0</td>\n",
       "      <td>3.0347</td>\n",
       "      <td>254500.0</td>\n",
       "      <td>1.042379</td>\n",
       "      <td>3.047847</td>\n",
       "      <td>4.505810</td>\n",
       "    </tr>\n",
       "    <tr>\n",
       "      <th>...</th>\n",
       "      <td>...</td>\n",
       "      <td>...</td>\n",
       "      <td>...</td>\n",
       "      <td>...</td>\n",
       "      <td>...</td>\n",
       "      <td>...</td>\n",
       "      <td>...</td>\n",
       "      <td>...</td>\n",
       "      <td>...</td>\n",
       "      <td>...</td>\n",
       "      <td>...</td>\n",
       "      <td>...</td>\n",
       "    </tr>\n",
       "    <tr>\n",
       "      <th>6563</th>\n",
       "      <td>-118.13</td>\n",
       "      <td>34.20</td>\n",
       "      <td>46.0</td>\n",
       "      <td>1271.0</td>\n",
       "      <td>236.0</td>\n",
       "      <td>573.0</td>\n",
       "      <td>210.0</td>\n",
       "      <td>4.9312</td>\n",
       "      <td>240200.0</td>\n",
       "      <td>1.123810</td>\n",
       "      <td>2.728571</td>\n",
       "      <td>6.052381</td>\n",
       "    </tr>\n",
       "    <tr>\n",
       "      <th>12053</th>\n",
       "      <td>-117.56</td>\n",
       "      <td>33.88</td>\n",
       "      <td>40.0</td>\n",
       "      <td>1196.0</td>\n",
       "      <td>294.0</td>\n",
       "      <td>1052.0</td>\n",
       "      <td>258.0</td>\n",
       "      <td>2.0682</td>\n",
       "      <td>113000.0</td>\n",
       "      <td>1.139535</td>\n",
       "      <td>4.077519</td>\n",
       "      <td>4.635659</td>\n",
       "    </tr>\n",
       "    <tr>\n",
       "      <th>13908</th>\n",
       "      <td>-116.40</td>\n",
       "      <td>34.09</td>\n",
       "      <td>9.0</td>\n",
       "      <td>4855.0</td>\n",
       "      <td>872.0</td>\n",
       "      <td>2098.0</td>\n",
       "      <td>765.0</td>\n",
       "      <td>3.2723</td>\n",
       "      <td>97800.0</td>\n",
       "      <td>1.139869</td>\n",
       "      <td>2.742484</td>\n",
       "      <td>6.346405</td>\n",
       "    </tr>\n",
       "    <tr>\n",
       "      <th>11159</th>\n",
       "      <td>-118.01</td>\n",
       "      <td>33.82</td>\n",
       "      <td>31.0</td>\n",
       "      <td>1960.0</td>\n",
       "      <td>380.0</td>\n",
       "      <td>1356.0</td>\n",
       "      <td>356.0</td>\n",
       "      <td>4.0625</td>\n",
       "      <td>225900.0</td>\n",
       "      <td>1.067416</td>\n",
       "      <td>3.808989</td>\n",
       "      <td>5.505618</td>\n",
       "    </tr>\n",
       "    <tr>\n",
       "      <th>15775</th>\n",
       "      <td>-122.45</td>\n",
       "      <td>37.77</td>\n",
       "      <td>52.0</td>\n",
       "      <td>3095.0</td>\n",
       "      <td>682.0</td>\n",
       "      <td>1269.0</td>\n",
       "      <td>639.0</td>\n",
       "      <td>3.5750</td>\n",
       "      <td>500001.0</td>\n",
       "      <td>1.067293</td>\n",
       "      <td>1.985915</td>\n",
       "      <td>4.843505</td>\n",
       "    </tr>\n",
       "  </tbody>\n",
       "</table>\n",
       "<p>16512 rows × 12 columns</p>\n",
       "</div>"
      ],
      "text/plain": [
       "       longitude  latitude  housing_median_age  total_rooms  total_bedrooms  \\\n",
       "17606    -121.89     37.29                38.0       1568.0           351.0   \n",
       "18632    -121.93     37.05                14.0        679.0           108.0   \n",
       "14650    -117.20     32.77                31.0       1952.0           471.0   \n",
       "3230     -119.61     36.31                25.0       1847.0           371.0   \n",
       "3555     -118.59     34.23                17.0       6592.0          1525.0   \n",
       "...          ...       ...                 ...          ...             ...   \n",
       "6563     -118.13     34.20                46.0       1271.0           236.0   \n",
       "12053    -117.56     33.88                40.0       1196.0           294.0   \n",
       "13908    -116.40     34.09                 9.0       4855.0           872.0   \n",
       "11159    -118.01     33.82                31.0       1960.0           380.0   \n",
       "15775    -122.45     37.77                52.0       3095.0           682.0   \n",
       "\n",
       "       population  households  median_income  median_house_value  \\\n",
       "17606       710.0       339.0         2.7042            286600.0   \n",
       "18632       306.0       113.0         6.4214            340600.0   \n",
       "14650       936.0       462.0         2.8621            196900.0   \n",
       "3230       1460.0       353.0         1.8839             46300.0   \n",
       "3555       4459.0      1463.0         3.0347            254500.0   \n",
       "...           ...         ...            ...                 ...   \n",
       "6563        573.0       210.0         4.9312            240200.0   \n",
       "12053      1052.0       258.0         2.0682            113000.0   \n",
       "13908      2098.0       765.0         3.2723             97800.0   \n",
       "11159      1356.0       356.0         4.0625            225900.0   \n",
       "15775      1269.0       639.0         3.5750            500001.0   \n",
       "\n",
       "       Bedrooms_per_household  population_per_household  rooms_per_household  \n",
       "17606                1.035398                  2.094395             4.625369  \n",
       "18632                0.955752                  2.707965             6.008850  \n",
       "14650                1.019481                  2.025974             4.225108  \n",
       "3230                 1.050992                  4.135977             5.232295  \n",
       "3555                 1.042379                  3.047847             4.505810  \n",
       "...                       ...                       ...                  ...  \n",
       "6563                 1.123810                  2.728571             6.052381  \n",
       "12053                1.139535                  4.077519             4.635659  \n",
       "13908                1.139869                  2.742484             6.346405  \n",
       "11159                1.067416                  3.808989             5.505618  \n",
       "15775                1.067293                  1.985915             4.843505  \n",
       "\n",
       "[16512 rows x 12 columns]"
      ]
     },
     "execution_count": 48,
     "metadata": {},
     "output_type": "execute_result"
    }
   ],
   "source": [
    "housing_feature_engineering = feature_engineer(housing_num)\n",
    "housing_feature_engineering"
   ]
  },
  {
   "cell_type": "markdown",
   "id": "9f234a54",
   "metadata": {},
   "source": [
    "## Scaling Our Data"
   ]
  },
  {
   "cell_type": "markdown",
   "id": "c7cc40ef",
   "metadata": {},
   "source": [
    "Many machine learning algorithms wont work well with unscaled data, So in order to get generalize model out of this data we will have to scale our data"
   ]
  },
  {
   "cell_type": "code",
   "execution_count": 50,
   "id": "af622e72",
   "metadata": {},
   "outputs": [
    {
     "data": {
      "text/plain": [
       "array([[-1.15604281,  0.77194962,  0.74333089, ..., -0.12461343,\n",
       "        -0.08649871, -0.31205452],\n",
       "       [-1.17602483,  0.6596948 , -1.1653172 , ..., -0.28097679,\n",
       "        -0.03353391,  0.21768338],\n",
       "       [ 1.18684903, -1.34218285,  0.18664186, ..., -0.15586354,\n",
       "        -0.09240499, -0.46531516],\n",
       "       ...,\n",
       "       [ 1.58648943, -0.72478134, -1.56295222, ...,  0.08048715,\n",
       "        -0.03055414,  0.3469342 ],\n",
       "       [ 0.78221312, -0.85106801,  0.18664186, ..., -0.06175575,\n",
       "         0.06150916,  0.02499488],\n",
       "       [-1.43579109,  0.99645926,  1.85670895, ..., -0.0619974 ,\n",
       "        -0.09586294, -0.22852947]])"
      ]
     },
     "execution_count": 50,
     "metadata": {},
     "output_type": "execute_result"
    }
   ],
   "source": [
    "from sklearn.preprocessing  import StandardScaler\n",
    "\n",
    "scaler = StandardScaler() \n",
    "housing_scaled = scaler.fit_transform(housing_feature_engineering)\n",
    "housing_scaled\n",
    "\n"
   ]
  },
  {
   "cell_type": "code",
   "execution_count": null,
   "id": "7ee3dd71",
   "metadata": {},
   "outputs": [],
   "source": [
    "housing = strat_train_set.drop(\"median_house_value\")\n",
    "housing_labels = strat_train_set[\"median_house_value\"].copy()"
   ]
  },
  {
   "cell_type": "markdown",
   "id": "b83d0c9f",
   "metadata": {},
   "source": [
    "## Pipelines !!!!"
   ]
  },
  {
   "cell_type": "code",
   "execution_count": 55,
   "id": "83cf12ad",
   "metadata": {},
   "outputs": [],
   "source": [
    "def data_transform_pipeline(data):\n",
    "    \n",
    "    if \"median_house_value\" in data.columns:\n",
    "        labels =data['median_house_value']\n",
    "        data = data.drop(\"median_house_value\", axis =1)\n",
    "    else:\n",
    "        labels = None\n",
    "        \n",
    "    \n",
    "    ## Feature Engineering\n",
    "    \n",
    "    feature_engineered_data  = feature_engineer(data)\n",
    "    features = list(feature_engineered_data.columns)\n",
    "    \n",
    "    ## Imputing Data\n",
    "    \n",
    "    Imputer = SimpleImputer(strategy = \"median\")\n",
    "    \n",
    "    housing_num = feature_engineered_data.select_dtypes(include = [np.number])\n",
    "    \n",
    "    imputed = imputer.fit_transform(housing_num)\n",
    "    \n",
    "    ## Encoding Categorical Data\n",
    "    \n",
    "    housing_cat = feature_engineered_data.select_dtypes(exclude=[np.number])\n",
    "    \n",
    "    cat_encoder = OneHotEncoder(sparse = False)\n",
    "    \n",
    "    housing_cat_1hot = cat_encoder.fit_transform(housing_cat)\n",
    "    \n",
    "    features = features + cat_encoder.categories_[0].tolist()\n",
    "    \n",
    "    features.remove(\"ocean_proximity\")\n",
    "    \n",
    "    ## Scaling\n",
    "    \n",
    "    scaler = StandardScaler() \n",
    "    \n",
    "    housing_scaled = scaler.fit_transform(imputed)\n",
    "    \n",
    "    \n",
    "    ### Concatenationg all Data ##\n",
    "    \n",
    "    output = np.hstack([housing_scaled, housing_cat_1hot])\n",
    "    \n",
    "    return output, labels, features \n",
    "    \n",
    "    "
   ]
  },
  {
   "cell_type": "markdown",
   "id": "df97af04",
   "metadata": {},
   "source": [
    "### Select & Train Models ::::"
   ]
  },
  {
   "cell_type": "code",
   "execution_count": 56,
   "id": "c125ad83",
   "metadata": {},
   "outputs": [
    {
     "data": {
      "text/plain": [
       "array([[-1.15604281,  0.77194962,  0.74333089, ...,  0.        ,\n",
       "         0.        ,  0.        ],\n",
       "       [-1.17602483,  0.6596948 , -1.1653172 , ...,  0.        ,\n",
       "         0.        ,  1.        ],\n",
       "       [ 1.18684903, -1.34218285,  0.18664186, ...,  0.        ,\n",
       "         0.        ,  0.        ],\n",
       "       ...,\n",
       "       [ 1.58648943, -0.72478134, -1.56295222, ...,  1.        ,\n",
       "         0.        ,  0.        ],\n",
       "       [ 0.78221312, -0.85106801,  0.18664186, ...,  1.        ,\n",
       "         0.        ,  0.        ],\n",
       "       [-1.43579109,  0.99645926,  1.85670895, ...,  1.        ,\n",
       "         0.        ,  0.        ]])"
      ]
     },
     "execution_count": 56,
     "metadata": {},
     "output_type": "execute_result"
    }
   ],
   "source": [
    "train_data, train_labels, features = data_transform_pipeline(strat_train_set)\n",
    "train_data"
   ]
  },
  {
   "cell_type": "code",
   "execution_count": 58,
   "id": "8a7209e4",
   "metadata": {},
   "outputs": [
    {
     "data": {
      "text/plain": [
       "array([[ 0.57471497, -0.69620912,  0.03285951, ...,  0.        ,\n",
       "         0.        ,  1.        ],\n",
       "       [ 0.83839441, -0.86074221,  0.82471029, ...,  0.        ,\n",
       "         1.        ,  0.        ],\n",
       "       [ 0.24635944, -0.65390061, -0.12551065, ...,  1.        ,\n",
       "         0.        ,  0.        ],\n",
       "       ...,\n",
       "       [ 0.52496413, -0.66800344,  0.19122966, ...,  0.        ,\n",
       "         1.        ,  0.        ],\n",
       "       [ 1.10704893, -0.75732141, -0.12551065, ...,  0.        ,\n",
       "         1.        ,  0.        ],\n",
       "       [ 0.31601062,  0.55894333, -0.75899128, ...,  1.        ,\n",
       "         0.        ,  0.        ]])"
      ]
     },
     "execution_count": 58,
     "metadata": {},
     "output_type": "execute_result"
    }
   ],
   "source": [
    "test_data, test_labels, features = data_transform_pipeline(strat_test_set)\n",
    "test_data"
   ]
  },
  {
   "cell_type": "code",
   "execution_count": 59,
   "id": "436968d2",
   "metadata": {},
   "outputs": [
    {
     "data": {
      "text/plain": [
       "['longitude',\n",
       " 'latitude',\n",
       " 'housing_median_age',\n",
       " 'total_rooms',\n",
       " 'total_bedrooms',\n",
       " 'population',\n",
       " 'households',\n",
       " 'median_income',\n",
       " 'median_income_cat',\n",
       " 'Bedrooms_per_household',\n",
       " 'population_per_household',\n",
       " 'rooms_per_household',\n",
       " '<1H OCEAN',\n",
       " 'INLAND',\n",
       " 'ISLAND',\n",
       " 'NEAR BAY',\n",
       " 'NEAR OCEAN']"
      ]
     },
     "execution_count": 59,
     "metadata": {},
     "output_type": "execute_result"
    }
   ],
   "source": [
    "features"
   ]
  },
  {
   "cell_type": "markdown",
   "id": "7433fa60",
   "metadata": {},
   "source": [
    "## Linear Regression"
   ]
  },
  {
   "cell_type": "code",
   "execution_count": 60,
   "id": "ce267144",
   "metadata": {},
   "outputs": [
    {
     "data": {
      "text/plain": [
       "LinearRegression()"
      ]
     },
     "execution_count": 60,
     "metadata": {},
     "output_type": "execute_result"
    }
   ],
   "source": [
    "from sklearn.linear_model import LinearRegression\n",
    "\n",
    "lin_Reg = LinearRegression()\n",
    "lin_Reg.fit(train_data,train_labels)"
   ]
  },
  {
   "cell_type": "code",
   "execution_count": 64,
   "id": "39015847",
   "metadata": {},
   "outputs": [],
   "source": [
    "original_values = test_labels[:5]          #---------->>> Original/Expected Values in Test data\n",
    "\n",
    "predicted_values = lin_Reg.predict(test_data[:5])   #--------------->>> Predicitons"
   ]
  },
  {
   "cell_type": "code",
   "execution_count": 66,
   "id": "b88e2045",
   "metadata": {},
   "outputs": [
    {
     "data": {
      "text/html": [
       "<div>\n",
       "<style scoped>\n",
       "    .dataframe tbody tr th:only-of-type {\n",
       "        vertical-align: middle;\n",
       "    }\n",
       "\n",
       "    .dataframe tbody tr th {\n",
       "        vertical-align: top;\n",
       "    }\n",
       "\n",
       "    .dataframe thead th {\n",
       "        text-align: right;\n",
       "    }\n",
       "</style>\n",
       "<table border=\"1\" class=\"dataframe\">\n",
       "  <thead>\n",
       "    <tr style=\"text-align: right;\">\n",
       "      <th></th>\n",
       "      <th>Original Values</th>\n",
       "      <th>Predicted Values</th>\n",
       "      <th>Difference</th>\n",
       "    </tr>\n",
       "  </thead>\n",
       "  <tbody>\n",
       "    <tr>\n",
       "      <th>5241</th>\n",
       "      <td>500001.0</td>\n",
       "      <td>430591.525619</td>\n",
       "      <td>69409.474381</td>\n",
       "    </tr>\n",
       "    <tr>\n",
       "      <th>10970</th>\n",
       "      <td>240300.0</td>\n",
       "      <td>261249.403082</td>\n",
       "      <td>-20949.403082</td>\n",
       "    </tr>\n",
       "    <tr>\n",
       "      <th>20351</th>\n",
       "      <td>218200.0</td>\n",
       "      <td>229058.999283</td>\n",
       "      <td>-10858.999283</td>\n",
       "    </tr>\n",
       "    <tr>\n",
       "      <th>6568</th>\n",
       "      <td>182100.0</td>\n",
       "      <td>195054.281794</td>\n",
       "      <td>-12954.281794</td>\n",
       "    </tr>\n",
       "    <tr>\n",
       "      <th>13285</th>\n",
       "      <td>121300.0</td>\n",
       "      <td>158453.778742</td>\n",
       "      <td>-37153.778742</td>\n",
       "    </tr>\n",
       "  </tbody>\n",
       "</table>\n",
       "</div>"
      ],
      "text/plain": [
       "       Original Values  Predicted Values    Difference\n",
       "5241          500001.0     430591.525619  69409.474381\n",
       "10970         240300.0     261249.403082 -20949.403082\n",
       "20351         218200.0     229058.999283 -10858.999283\n",
       "6568          182100.0     195054.281794 -12954.281794\n",
       "13285         121300.0     158453.778742 -37153.778742"
      ]
     },
     "execution_count": 66,
     "metadata": {},
     "output_type": "execute_result"
    }
   ],
   "source": [
    "Comparison_dataframe = pd.DataFrame(data={\"Original Values\": original_values, \"Predicted Values\": predicted_values})\n",
    "Comparison_dataframe['Difference'] = Comparison_dataframe['Original Values'] - Comparison_dataframe['Predicted Values']\n",
    "\n",
    "Comparison_dataframe"
   ]
  },
  {
   "cell_type": "markdown",
   "id": "a1e3f850",
   "metadata": {},
   "source": [
    "## Measuring Results ::"
   ]
  },
  {
   "cell_type": "code",
   "execution_count": 69,
   "id": "14cbe967",
   "metadata": {},
   "outputs": [
    {
     "data": {
      "text/plain": [
       "37209.372959819615"
      ]
     },
     "execution_count": 69,
     "metadata": {},
     "output_type": "execute_result"
    }
   ],
   "source": [
    "from sklearn.metrics import mean_squared_error\n",
    "\n",
    "lin_mse = mean_squared_error(original_values,predicted_values)\n",
    "lin_rmse = np.sqrt(lin_mse)\n",
    "lin_rmse"
   ]
  },
  {
   "cell_type": "code",
   "execution_count": 70,
   "id": "851e56ac",
   "metadata": {},
   "outputs": [
    {
     "data": {
      "text/plain": [
       "30265.18745632063"
      ]
     },
     "execution_count": 70,
     "metadata": {},
     "output_type": "execute_result"
    }
   ],
   "source": [
    "from sklearn.metrics import mean_absolute_error\n",
    "\n",
    "lin_mae = mean_absolute_error(original_values,predicted_values)\n",
    "lin_mae"
   ]
  },
  {
   "cell_type": "markdown",
   "id": "4356039f",
   "metadata": {},
   "source": [
    "#### Our Root Mean Squared Error is about 37,209, Its not a very accurate predictor, Lets model this data to Decision Tree Regressor"
   ]
  },
  {
   "cell_type": "code",
   "execution_count": 71,
   "id": "950086fa",
   "metadata": {},
   "outputs": [
    {
     "data": {
      "text/plain": [
       "DecisionTreeRegressor(random_state=42)"
      ]
     },
     "execution_count": 71,
     "metadata": {},
     "output_type": "execute_result"
    }
   ],
   "source": [
    "from sklearn.tree import DecisionTreeRegressor\n",
    "\n",
    "treeReg = DecisionTreeRegressor(random_state=42)\n",
    "treeReg.fit(train_data,train_labels)"
   ]
  },
  {
   "cell_type": "code",
   "execution_count": 72,
   "id": "2a3f17da",
   "metadata": {},
   "outputs": [],
   "source": [
    "## Lets predict same data\n",
    "\n",
    "original_values = test_labels[:5]          #---------->>> Original/Expected Values in Test data\n",
    "\n",
    "predicted_values = treeReg.predict(test_data[:5])   #--------------->>> Predicitons"
   ]
  },
  {
   "cell_type": "code",
   "execution_count": 73,
   "id": "e378f42c",
   "metadata": {},
   "outputs": [
    {
     "data": {
      "text/html": [
       "<div>\n",
       "<style scoped>\n",
       "    .dataframe tbody tr th:only-of-type {\n",
       "        vertical-align: middle;\n",
       "    }\n",
       "\n",
       "    .dataframe tbody tr th {\n",
       "        vertical-align: top;\n",
       "    }\n",
       "\n",
       "    .dataframe thead th {\n",
       "        text-align: right;\n",
       "    }\n",
       "</style>\n",
       "<table border=\"1\" class=\"dataframe\">\n",
       "  <thead>\n",
       "    <tr style=\"text-align: right;\">\n",
       "      <th></th>\n",
       "      <th>Original Values</th>\n",
       "      <th>Predicted Values</th>\n",
       "      <th>Difference</th>\n",
       "    </tr>\n",
       "  </thead>\n",
       "  <tbody>\n",
       "    <tr>\n",
       "      <th>5241</th>\n",
       "      <td>500001.0</td>\n",
       "      <td>500001.0</td>\n",
       "      <td>0.0</td>\n",
       "    </tr>\n",
       "    <tr>\n",
       "      <th>10970</th>\n",
       "      <td>240300.0</td>\n",
       "      <td>304600.0</td>\n",
       "      <td>-64300.0</td>\n",
       "    </tr>\n",
       "    <tr>\n",
       "      <th>20351</th>\n",
       "      <td>218200.0</td>\n",
       "      <td>225000.0</td>\n",
       "      <td>-6800.0</td>\n",
       "    </tr>\n",
       "    <tr>\n",
       "      <th>6568</th>\n",
       "      <td>182100.0</td>\n",
       "      <td>184200.0</td>\n",
       "      <td>-2100.0</td>\n",
       "    </tr>\n",
       "    <tr>\n",
       "      <th>13285</th>\n",
       "      <td>121300.0</td>\n",
       "      <td>177200.0</td>\n",
       "      <td>-55900.0</td>\n",
       "    </tr>\n",
       "  </tbody>\n",
       "</table>\n",
       "</div>"
      ],
      "text/plain": [
       "       Original Values  Predicted Values  Difference\n",
       "5241          500001.0          500001.0         0.0\n",
       "10970         240300.0          304600.0    -64300.0\n",
       "20351         218200.0          225000.0     -6800.0\n",
       "6568          182100.0          184200.0     -2100.0\n",
       "13285         121300.0          177200.0    -55900.0"
      ]
     },
     "execution_count": 73,
     "metadata": {},
     "output_type": "execute_result"
    }
   ],
   "source": [
    "Comparison_dataframe = pd.DataFrame(data={\"Original Values\": original_values, \"Predicted Values\": predicted_values})\n",
    "Comparison_dataframe['Difference'] = Comparison_dataframe['Original Values'] - Comparison_dataframe['Predicted Values']\n",
    "\n",
    "Comparison_dataframe"
   ]
  },
  {
   "cell_type": "code",
   "execution_count": 74,
   "id": "13e25293",
   "metadata": {},
   "outputs": [
    {
     "data": {
      "text/plain": [
       "38235.97782194147"
      ]
     },
     "execution_count": 74,
     "metadata": {},
     "output_type": "execute_result"
    }
   ],
   "source": [
    "Tree_mse = mean_squared_error(original_values,predicted_values)\n",
    "Tree_rmse = np.sqrt(Tree_mse)\n",
    "Tree_rmse"
   ]
  },
  {
   "cell_type": "code",
   "execution_count": 75,
   "id": "d8a3b396",
   "metadata": {},
   "outputs": [
    {
     "data": {
      "text/plain": [
       "25820.0"
      ]
     },
     "execution_count": 75,
     "metadata": {},
     "output_type": "execute_result"
    }
   ],
   "source": [
    "Tree_mae = mean_absolute_error(original_values,predicted_values)\n",
    "Tree_mae"
   ]
  },
  {
   "cell_type": "markdown",
   "id": "4d98d820",
   "metadata": {},
   "source": [
    "## Cross Validation ::"
   ]
  },
  {
   "cell_type": "code",
   "execution_count": 76,
   "id": "ae010478",
   "metadata": {},
   "outputs": [],
   "source": [
    "from sklearn.model_selection import cross_val_score\n",
    "\n",
    "scores = cross_val_score(treeReg, train_data, train_labels, scoring = \"neg_mean_squared_error\",cv = 10)\n",
    "tree_rmse_score = np.sqrt(-scores)"
   ]
  },
  {
   "cell_type": "code",
   "execution_count": 78,
   "id": "6061d8f2",
   "metadata": {},
   "outputs": [
    {
     "name": "stdout",
     "output_type": "stream",
     "text": [
      "Scores: [71266.79571236 69251.01425062 70782.00638678 74149.62095893\n",
      " 69825.87952043 75609.26754058 71227.68299102 70521.16358535\n",
      " 76582.46818853 69500.74110547]\n",
      "Mean: 71871.6640240081\n",
      "STD: 2486.2932474460663\n"
     ]
    }
   ],
   "source": [
    "def display_scores(scores):\n",
    "    print(\"Scores:\",scores)\n",
    "    print(\"Mean:\", scores.mean())\n",
    "    print(\"STD:\",scores.std())\n",
    "\n",
    "display_scores(tree_rmse_score)\n",
    "    "
   ]
  },
  {
   "cell_type": "markdown",
   "id": "59cf8e76",
   "metadata": {},
   "source": [
    "### Random Forest Regressor"
   ]
  },
  {
   "cell_type": "code",
   "execution_count": 80,
   "id": "c544204d",
   "metadata": {},
   "outputs": [
    {
     "data": {
      "text/plain": [
       "RandomForestRegressor(random_state=42)"
      ]
     },
     "execution_count": 80,
     "metadata": {},
     "output_type": "execute_result"
    }
   ],
   "source": [
    "from sklearn.ensemble import RandomForestRegressor\n",
    "\n",
    "fores_reg = RandomForestRegressor(n_estimators = 100, random_state = 42)\n",
    "fores_reg.fit(train_data,train_labels)"
   ]
  },
  {
   "cell_type": "code",
   "execution_count": 82,
   "id": "c6b67a45",
   "metadata": {},
   "outputs": [],
   "source": [
    "train_predicitons = fores_reg.predict(train_data)\n"
   ]
  },
  {
   "cell_type": "code",
   "execution_count": 84,
   "id": "71d087e6",
   "metadata": {},
   "outputs": [
    {
     "data": {
      "text/plain": [
       "18690.628462367946"
      ]
     },
     "execution_count": 84,
     "metadata": {},
     "output_type": "execute_result"
    }
   ],
   "source": [
    "ForestTree_mse = mean_squared_error(train_labels,train_predicitons)\n",
    "ForestTree_rmse = np.sqrt(ForestTree_mse)\n",
    "ForestTree_rmse"
   ]
  },
  {
   "cell_type": "markdown",
   "id": "ce774cba",
   "metadata": {},
   "source": [
    "### Now we got our results far better than 37,209 (Linaer Regression) to Random Forest's 18690.62 RMSE (Still without hyperparameters)"
   ]
  },
  {
   "cell_type": "code",
   "execution_count": 86,
   "id": "b0b1b196",
   "metadata": {},
   "outputs": [],
   "source": [
    "scores = cross_val_score(fores_reg, train_data, train_labels, scoring = \"neg_mean_squared_error\",cv = 10)\n",
    "RandomForest_tree_rmse_score = np.sqrt(-scores)"
   ]
  },
  {
   "cell_type": "code",
   "execution_count": 87,
   "id": "f8f51ffa",
   "metadata": {},
   "outputs": [
    {
     "name": "stdout",
     "output_type": "stream",
     "text": [
      "Scores: [49856.39856987 47351.25263944 49981.79207438 52766.70396575\n",
      " 49713.13083236 53750.44635352 49110.704286   47849.84228632\n",
      " 53468.8199134  50540.16199855]\n",
      "Mean: 50438.92529195831\n",
      "STD: 2113.091706507681\n"
     ]
    }
   ],
   "source": [
    "display_scores(RandomForest_tree_rmse_score)"
   ]
  },
  {
   "cell_type": "code",
   "execution_count": null,
   "id": "2ff9df29",
   "metadata": {},
   "outputs": [],
   "source": []
  },
  {
   "cell_type": "code",
   "execution_count": 88,
   "id": "80777bba",
   "metadata": {},
   "outputs": [
    {
     "data": {
      "text/plain": [
       "110724.88160775298"
      ]
     },
     "execution_count": 88,
     "metadata": {},
     "output_type": "execute_result"
    }
   ],
   "source": [
    "## SVM\n",
    "\n",
    "from sklearn.svm import SVR\n",
    "\n",
    "svm_reg = SVR(kernel=\"linear\")\n",
    "svm_reg.fit(train_data,train_labels)\n",
    "housing_predictions = svm_reg.predict(train_data)\n",
    "\n",
    "svm_mse = mean_squared_error(train_labels, housing_predictions)\n",
    "svm_rmse = np.sqrt(svm_mse)\n",
    "svm_rmse"
   ]
  },
  {
   "cell_type": "code",
   "execution_count": null,
   "id": "9cb75d3f",
   "metadata": {},
   "outputs": [],
   "source": [
    "## This is good !!!"
   ]
  },
  {
   "cell_type": "markdown",
   "id": "95a7501c",
   "metadata": {},
   "source": [
    "### Fine tune your model: Grid Search Or Randomized Search ::"
   ]
  },
  {
   "cell_type": "code",
   "execution_count": 89,
   "id": "75fc0916",
   "metadata": {},
   "outputs": [
    {
     "data": {
      "text/plain": [
       "GridSearchCV(cv=5, estimator=RandomForestRegressor(random_state=42),\n",
       "             param_grid=[{'max_features': [2, 4, 6, 8],\n",
       "                          'n_estimators': [3, 10, 30]},\n",
       "                         {'bootstrap': [False], 'max_features': [2, 3, 4],\n",
       "                          'n_estimators': [3, 10]}],\n",
       "             return_train_score=True, scoring='neg_mean_squared_error')"
      ]
     },
     "execution_count": 89,
     "metadata": {},
     "output_type": "execute_result"
    }
   ],
   "source": [
    "## Fine tune Random Forest\n",
    "\n",
    "from sklearn.model_selection import GridSearchCV\n",
    "\n",
    "param_grid = [\n",
    "    # try 12 (3×4) combinations of hyperparameters\n",
    "    {'n_estimators': [3, 10, 30], 'max_features': [2, 4, 6, 8]},\n",
    "    # then try 6 (2×3) combinations with bootstrap set as False\n",
    "    {'bootstrap': [False], 'n_estimators': [3, 10], 'max_features': [2, 3, 4]},\n",
    "  ]\n",
    "\n",
    "forest_reg = RandomForestRegressor(random_state=42)\n",
    "# train across 5 folds, that's a total of (12+6)*5=90 rounds of training \n",
    "grid_search = GridSearchCV(forest_reg, param_grid, cv=5,\n",
    "                           scoring='neg_mean_squared_error', return_train_score=True)\n",
    "grid_search.fit(train_data, train_labels)"
   ]
  },
  {
   "cell_type": "code",
   "execution_count": 94,
   "id": "3c5090bc",
   "metadata": {},
   "outputs": [],
   "source": [
    "train_predicitons = grid_search.predict(train_data)"
   ]
  },
  {
   "cell_type": "code",
   "execution_count": 90,
   "id": "ae3fe42a",
   "metadata": {},
   "outputs": [
    {
     "data": {
      "text/plain": [
       "{'max_features': 8, 'n_estimators': 30}"
      ]
     },
     "execution_count": 90,
     "metadata": {},
     "output_type": "execute_result"
    }
   ],
   "source": [
    "grid_search.best_params_"
   ]
  },
  {
   "cell_type": "code",
   "execution_count": 91,
   "id": "70f3c029",
   "metadata": {},
   "outputs": [
    {
     "data": {
      "text/plain": [
       "RandomForestRegressor(max_features=8, n_estimators=30, random_state=42)"
      ]
     },
     "execution_count": 91,
     "metadata": {},
     "output_type": "execute_result"
    }
   ],
   "source": [
    "grid_search.best_estimator_"
   ]
  },
  {
   "cell_type": "code",
   "execution_count": 92,
   "id": "04dc7804",
   "metadata": {},
   "outputs": [
    {
     "name": "stdout",
     "output_type": "stream",
     "text": [
      "65182.13076221845 {'max_features': 2, 'n_estimators': 3}\n",
      "57465.44108962551 {'max_features': 2, 'n_estimators': 10}\n",
      "54564.674908799345 {'max_features': 2, 'n_estimators': 30}\n",
      "62390.62342224398 {'max_features': 4, 'n_estimators': 3}\n",
      "55282.80807998184 {'max_features': 4, 'n_estimators': 10}\n",
      "52466.03939426053 {'max_features': 4, 'n_estimators': 30}\n",
      "61303.68671442677 {'max_features': 6, 'n_estimators': 3}\n",
      "54015.68997360327 {'max_features': 6, 'n_estimators': 10}\n",
      "51460.78733118658 {'max_features': 6, 'n_estimators': 30}\n",
      "60412.75627053186 {'max_features': 8, 'n_estimators': 3}\n",
      "53661.83245077935 {'max_features': 8, 'n_estimators': 10}\n",
      "51448.70755405037 {'max_features': 8, 'n_estimators': 30}\n",
      "63720.09121018065 {'bootstrap': False, 'max_features': 2, 'n_estimators': 3}\n",
      "56286.32842111856 {'bootstrap': False, 'max_features': 2, 'n_estimators': 10}\n",
      "62605.92589551954 {'bootstrap': False, 'max_features': 3, 'n_estimators': 3}\n",
      "54564.39833332461 {'bootstrap': False, 'max_features': 3, 'n_estimators': 10}\n",
      "61651.495608443605 {'bootstrap': False, 'max_features': 4, 'n_estimators': 3}\n",
      "54284.44088838238 {'bootstrap': False, 'max_features': 4, 'n_estimators': 10}\n"
     ]
    }
   ],
   "source": [
    "cvres = grid_search.cv_results_\n",
    "for mean_score, params in zip(cvres[\"mean_test_score\"], cvres[\"params\"]):\n",
    "    print(np.sqrt(-mean_score), params)"
   ]
  },
  {
   "cell_type": "code",
   "execution_count": 93,
   "id": "842762d2",
   "metadata": {},
   "outputs": [
    {
     "data": {
      "text/html": [
       "<div>\n",
       "<style scoped>\n",
       "    .dataframe tbody tr th:only-of-type {\n",
       "        vertical-align: middle;\n",
       "    }\n",
       "\n",
       "    .dataframe tbody tr th {\n",
       "        vertical-align: top;\n",
       "    }\n",
       "\n",
       "    .dataframe thead th {\n",
       "        text-align: right;\n",
       "    }\n",
       "</style>\n",
       "<table border=\"1\" class=\"dataframe\">\n",
       "  <thead>\n",
       "    <tr style=\"text-align: right;\">\n",
       "      <th></th>\n",
       "      <th>mean_fit_time</th>\n",
       "      <th>std_fit_time</th>\n",
       "      <th>mean_score_time</th>\n",
       "      <th>std_score_time</th>\n",
       "      <th>param_max_features</th>\n",
       "      <th>param_n_estimators</th>\n",
       "      <th>param_bootstrap</th>\n",
       "      <th>params</th>\n",
       "      <th>split0_test_score</th>\n",
       "      <th>split1_test_score</th>\n",
       "      <th>...</th>\n",
       "      <th>mean_test_score</th>\n",
       "      <th>std_test_score</th>\n",
       "      <th>rank_test_score</th>\n",
       "      <th>split0_train_score</th>\n",
       "      <th>split1_train_score</th>\n",
       "      <th>split2_train_score</th>\n",
       "      <th>split3_train_score</th>\n",
       "      <th>split4_train_score</th>\n",
       "      <th>mean_train_score</th>\n",
       "      <th>std_train_score</th>\n",
       "    </tr>\n",
       "  </thead>\n",
       "  <tbody>\n",
       "    <tr>\n",
       "      <th>0</th>\n",
       "      <td>0.063960</td>\n",
       "      <td>0.003631</td>\n",
       "      <td>0.003398</td>\n",
       "      <td>4.898236e-04</td>\n",
       "      <td>2</td>\n",
       "      <td>3</td>\n",
       "      <td>NaN</td>\n",
       "      <td>{'max_features': 2, 'n_estimators': 3}</td>\n",
       "      <td>-3.905988e+09</td>\n",
       "      <td>-4.237499e+09</td>\n",
       "      <td>...</td>\n",
       "      <td>-4.248710e+09</td>\n",
       "      <td>1.920434e+08</td>\n",
       "      <td>18</td>\n",
       "      <td>-1.147306e+09</td>\n",
       "      <td>-1.110145e+09</td>\n",
       "      <td>-1.140001e+09</td>\n",
       "      <td>-1.159958e+09</td>\n",
       "      <td>-1.142142e+09</td>\n",
       "      <td>-1.139911e+09</td>\n",
       "      <td>1.641670e+07</td>\n",
       "    </tr>\n",
       "    <tr>\n",
       "      <th>1</th>\n",
       "      <td>0.193881</td>\n",
       "      <td>0.001788</td>\n",
       "      <td>0.009794</td>\n",
       "      <td>1.164781e-03</td>\n",
       "      <td>2</td>\n",
       "      <td>10</td>\n",
       "      <td>NaN</td>\n",
       "      <td>{'max_features': 2, 'n_estimators': 10}</td>\n",
       "      <td>-3.137611e+09</td>\n",
       "      <td>-3.312484e+09</td>\n",
       "      <td>...</td>\n",
       "      <td>-3.302277e+09</td>\n",
       "      <td>1.319590e+08</td>\n",
       "      <td>11</td>\n",
       "      <td>-6.216071e+08</td>\n",
       "      <td>-6.022343e+08</td>\n",
       "      <td>-5.957915e+08</td>\n",
       "      <td>-6.275998e+08</td>\n",
       "      <td>-6.123041e+08</td>\n",
       "      <td>-6.119074e+08</td>\n",
       "      <td>1.177953e+07</td>\n",
       "    </tr>\n",
       "    <tr>\n",
       "      <th>2</th>\n",
       "      <td>0.651798</td>\n",
       "      <td>0.068378</td>\n",
       "      <td>0.027384</td>\n",
       "      <td>1.958963e-03</td>\n",
       "      <td>2</td>\n",
       "      <td>30</td>\n",
       "      <td>NaN</td>\n",
       "      <td>{'max_features': 2, 'n_estimators': 30}</td>\n",
       "      <td>-2.805553e+09</td>\n",
       "      <td>-3.036192e+09</td>\n",
       "      <td>...</td>\n",
       "      <td>-2.977304e+09</td>\n",
       "      <td>1.473404e+08</td>\n",
       "      <td>8</td>\n",
       "      <td>-4.604464e+08</td>\n",
       "      <td>-4.516947e+08</td>\n",
       "      <td>-4.473540e+08</td>\n",
       "      <td>-4.648261e+08</td>\n",
       "      <td>-4.581160e+08</td>\n",
       "      <td>-4.564875e+08</td>\n",
       "      <td>6.232950e+06</td>\n",
       "    </tr>\n",
       "    <tr>\n",
       "      <th>3</th>\n",
       "      <td>0.091144</td>\n",
       "      <td>0.002783</td>\n",
       "      <td>0.003598</td>\n",
       "      <td>4.896693e-04</td>\n",
       "      <td>4</td>\n",
       "      <td>3</td>\n",
       "      <td>NaN</td>\n",
       "      <td>{'max_features': 4, 'n_estimators': 3}</td>\n",
       "      <td>-3.495132e+09</td>\n",
       "      <td>-4.141663e+09</td>\n",
       "      <td>...</td>\n",
       "      <td>-3.892590e+09</td>\n",
       "      <td>2.507104e+08</td>\n",
       "      <td>15</td>\n",
       "      <td>-1.042501e+09</td>\n",
       "      <td>-1.022615e+09</td>\n",
       "      <td>-1.015949e+09</td>\n",
       "      <td>-1.038527e+09</td>\n",
       "      <td>-1.041280e+09</td>\n",
       "      <td>-1.032174e+09</td>\n",
       "      <td>1.081243e+07</td>\n",
       "    </tr>\n",
       "    <tr>\n",
       "      <th>4</th>\n",
       "      <td>0.305410</td>\n",
       "      <td>0.012036</td>\n",
       "      <td>0.010394</td>\n",
       "      <td>4.895148e-04</td>\n",
       "      <td>4</td>\n",
       "      <td>10</td>\n",
       "      <td>NaN</td>\n",
       "      <td>{'max_features': 4, 'n_estimators': 10}</td>\n",
       "      <td>-2.747113e+09</td>\n",
       "      <td>-3.179384e+09</td>\n",
       "      <td>...</td>\n",
       "      <td>-3.056189e+09</td>\n",
       "      <td>1.968675e+08</td>\n",
       "      <td>9</td>\n",
       "      <td>-5.612337e+08</td>\n",
       "      <td>-5.495048e+08</td>\n",
       "      <td>-5.475204e+08</td>\n",
       "      <td>-5.683397e+08</td>\n",
       "      <td>-5.598644e+08</td>\n",
       "      <td>-5.572926e+08</td>\n",
       "      <td>7.750225e+06</td>\n",
       "    </tr>\n",
       "    <tr>\n",
       "      <th>5</th>\n",
       "      <td>0.946815</td>\n",
       "      <td>0.036137</td>\n",
       "      <td>0.026384</td>\n",
       "      <td>1.198753e-03</td>\n",
       "      <td>4</td>\n",
       "      <td>30</td>\n",
       "      <td>NaN</td>\n",
       "      <td>{'max_features': 4, 'n_estimators': 30}</td>\n",
       "      <td>-2.564880e+09</td>\n",
       "      <td>-2.881626e+09</td>\n",
       "      <td>...</td>\n",
       "      <td>-2.752685e+09</td>\n",
       "      <td>1.477267e+08</td>\n",
       "      <td>3</td>\n",
       "      <td>-4.279131e+08</td>\n",
       "      <td>-4.170662e+08</td>\n",
       "      <td>-4.188756e+08</td>\n",
       "      <td>-4.254150e+08</td>\n",
       "      <td>-4.107080e+08</td>\n",
       "      <td>-4.199956e+08</td>\n",
       "      <td>6.134354e+06</td>\n",
       "    </tr>\n",
       "    <tr>\n",
       "      <th>6</th>\n",
       "      <td>0.120325</td>\n",
       "      <td>0.002331</td>\n",
       "      <td>0.003998</td>\n",
       "      <td>4.672031e-07</td>\n",
       "      <td>6</td>\n",
       "      <td>3</td>\n",
       "      <td>NaN</td>\n",
       "      <td>{'max_features': 6, 'n_estimators': 3}</td>\n",
       "      <td>-3.515113e+09</td>\n",
       "      <td>-3.784322e+09</td>\n",
       "      <td>...</td>\n",
       "      <td>-3.758142e+09</td>\n",
       "      <td>2.349885e+08</td>\n",
       "      <td>13</td>\n",
       "      <td>-9.527392e+08</td>\n",
       "      <td>-9.797345e+08</td>\n",
       "      <td>-1.011668e+09</td>\n",
       "      <td>-9.875966e+08</td>\n",
       "      <td>-9.814782e+08</td>\n",
       "      <td>-9.826432e+08</td>\n",
       "      <td>1.882033e+07</td>\n",
       "    </tr>\n",
       "    <tr>\n",
       "      <th>7</th>\n",
       "      <td>0.412545</td>\n",
       "      <td>0.023981</td>\n",
       "      <td>0.010594</td>\n",
       "      <td>1.019291e-03</td>\n",
       "      <td>6</td>\n",
       "      <td>10</td>\n",
       "      <td>NaN</td>\n",
       "      <td>{'max_features': 6, 'n_estimators': 10}</td>\n",
       "      <td>-2.721480e+09</td>\n",
       "      <td>-2.961508e+09</td>\n",
       "      <td>...</td>\n",
       "      <td>-2.917695e+09</td>\n",
       "      <td>1.688880e+08</td>\n",
       "      <td>5</td>\n",
       "      <td>-5.312460e+08</td>\n",
       "      <td>-5.302058e+08</td>\n",
       "      <td>-5.321541e+08</td>\n",
       "      <td>-5.466882e+08</td>\n",
       "      <td>-5.370842e+08</td>\n",
       "      <td>-5.354757e+08</td>\n",
       "      <td>6.082816e+06</td>\n",
       "    </tr>\n",
       "    <tr>\n",
       "      <th>8</th>\n",
       "      <td>1.145294</td>\n",
       "      <td>0.021500</td>\n",
       "      <td>0.025384</td>\n",
       "      <td>4.894342e-04</td>\n",
       "      <td>6</td>\n",
       "      <td>30</td>\n",
       "      <td>NaN</td>\n",
       "      <td>{'max_features': 6, 'n_estimators': 30}</td>\n",
       "      <td>-2.482872e+09</td>\n",
       "      <td>-2.740798e+09</td>\n",
       "      <td>...</td>\n",
       "      <td>-2.648213e+09</td>\n",
       "      <td>1.608520e+08</td>\n",
       "      <td>2</td>\n",
       "      <td>-4.136838e+08</td>\n",
       "      <td>-4.050336e+08</td>\n",
       "      <td>-4.051027e+08</td>\n",
       "      <td>-4.134839e+08</td>\n",
       "      <td>-4.001491e+08</td>\n",
       "      <td>-4.074906e+08</td>\n",
       "      <td>5.289820e+06</td>\n",
       "    </tr>\n",
       "    <tr>\n",
       "      <th>9</th>\n",
       "      <td>0.145711</td>\n",
       "      <td>0.002134</td>\n",
       "      <td>0.003398</td>\n",
       "      <td>4.898430e-04</td>\n",
       "      <td>8</td>\n",
       "      <td>3</td>\n",
       "      <td>NaN</td>\n",
       "      <td>{'max_features': 8, 'n_estimators': 3}</td>\n",
       "      <td>-3.551705e+09</td>\n",
       "      <td>-3.795404e+09</td>\n",
       "      <td>...</td>\n",
       "      <td>-3.649701e+09</td>\n",
       "      <td>1.134024e+08</td>\n",
       "      <td>12</td>\n",
       "      <td>-9.585035e+08</td>\n",
       "      <td>-9.606338e+08</td>\n",
       "      <td>-9.541477e+08</td>\n",
       "      <td>-1.012617e+09</td>\n",
       "      <td>-9.390745e+08</td>\n",
       "      <td>-9.649952e+08</td>\n",
       "      <td>2.497405e+07</td>\n",
       "    </tr>\n",
       "    <tr>\n",
       "      <th>10</th>\n",
       "      <td>0.471510</td>\n",
       "      <td>0.002637</td>\n",
       "      <td>0.009794</td>\n",
       "      <td>3.996615e-04</td>\n",
       "      <td>8</td>\n",
       "      <td>10</td>\n",
       "      <td>NaN</td>\n",
       "      <td>{'max_features': 8, 'n_estimators': 10}</td>\n",
       "      <td>-2.751802e+09</td>\n",
       "      <td>-3.022417e+09</td>\n",
       "      <td>...</td>\n",
       "      <td>-2.879592e+09</td>\n",
       "      <td>1.387979e+08</td>\n",
       "      <td>4</td>\n",
       "      <td>-5.207721e+08</td>\n",
       "      <td>-5.240783e+08</td>\n",
       "      <td>-5.041009e+08</td>\n",
       "      <td>-5.371859e+08</td>\n",
       "      <td>-5.164009e+08</td>\n",
       "      <td>-5.205076e+08</td>\n",
       "      <td>1.074273e+07</td>\n",
       "    </tr>\n",
       "    <tr>\n",
       "      <th>11</th>\n",
       "      <td>1.415927</td>\n",
       "      <td>0.006206</td>\n",
       "      <td>0.025584</td>\n",
       "      <td>4.899798e-04</td>\n",
       "      <td>8</td>\n",
       "      <td>30</td>\n",
       "      <td>NaN</td>\n",
       "      <td>{'max_features': 8, 'n_estimators': 30}</td>\n",
       "      <td>-2.529189e+09</td>\n",
       "      <td>-2.740268e+09</td>\n",
       "      <td>...</td>\n",
       "      <td>-2.646970e+09</td>\n",
       "      <td>1.282281e+08</td>\n",
       "      <td>1</td>\n",
       "      <td>-3.999625e+08</td>\n",
       "      <td>-3.906967e+08</td>\n",
       "      <td>-3.941381e+08</td>\n",
       "      <td>-4.138776e+08</td>\n",
       "      <td>-3.951985e+08</td>\n",
       "      <td>-3.987746e+08</td>\n",
       "      <td>8.112340e+06</td>\n",
       "    </tr>\n",
       "    <tr>\n",
       "      <th>12</th>\n",
       "      <td>0.093942</td>\n",
       "      <td>0.001413</td>\n",
       "      <td>0.004198</td>\n",
       "      <td>3.989264e-04</td>\n",
       "      <td>2</td>\n",
       "      <td>3</td>\n",
       "      <td>False</td>\n",
       "      <td>{'bootstrap': False, 'max_features': 2, 'n_est...</td>\n",
       "      <td>-3.796691e+09</td>\n",
       "      <td>-4.233373e+09</td>\n",
       "      <td>...</td>\n",
       "      <td>-4.060250e+09</td>\n",
       "      <td>1.521855e+08</td>\n",
       "      <td>17</td>\n",
       "      <td>-3.804527e+04</td>\n",
       "      <td>-0.000000e+00</td>\n",
       "      <td>-0.000000e+00</td>\n",
       "      <td>-0.000000e+00</td>\n",
       "      <td>-2.302969e+02</td>\n",
       "      <td>-7.655114e+03</td>\n",
       "      <td>1.519534e+04</td>\n",
       "    </tr>\n",
       "    <tr>\n",
       "      <th>13</th>\n",
       "      <td>0.334794</td>\n",
       "      <td>0.036314</td>\n",
       "      <td>0.011194</td>\n",
       "      <td>3.997810e-04</td>\n",
       "      <td>2</td>\n",
       "      <td>10</td>\n",
       "      <td>False</td>\n",
       "      <td>{'bootstrap': False, 'max_features': 2, 'n_est...</td>\n",
       "      <td>-2.905503e+09</td>\n",
       "      <td>-3.215468e+09</td>\n",
       "      <td>...</td>\n",
       "      <td>-3.168151e+09</td>\n",
       "      <td>1.811426e+08</td>\n",
       "      <td>10</td>\n",
       "      <td>-3.424135e+03</td>\n",
       "      <td>-7.001287e+01</td>\n",
       "      <td>-0.000000e+00</td>\n",
       "      <td>-0.000000e+00</td>\n",
       "      <td>-4.487509e+01</td>\n",
       "      <td>-7.078046e+02</td>\n",
       "      <td>1.358431e+03</td>\n",
       "    </tr>\n",
       "    <tr>\n",
       "      <th>14</th>\n",
       "      <td>0.113531</td>\n",
       "      <td>0.001496</td>\n",
       "      <td>0.003998</td>\n",
       "      <td>5.917394e-07</td>\n",
       "      <td>3</td>\n",
       "      <td>3</td>\n",
       "      <td>False</td>\n",
       "      <td>{'bootstrap': False, 'max_features': 3, 'n_est...</td>\n",
       "      <td>-3.747852e+09</td>\n",
       "      <td>-4.080850e+09</td>\n",
       "      <td>...</td>\n",
       "      <td>-3.919502e+09</td>\n",
       "      <td>1.408844e+08</td>\n",
       "      <td>16</td>\n",
       "      <td>-0.000000e+00</td>\n",
       "      <td>-0.000000e+00</td>\n",
       "      <td>-0.000000e+00</td>\n",
       "      <td>-9.211877e+02</td>\n",
       "      <td>-0.000000e+00</td>\n",
       "      <td>-1.842375e+02</td>\n",
       "      <td>3.684751e+02</td>\n",
       "    </tr>\n",
       "    <tr>\n",
       "      <th>15</th>\n",
       "      <td>0.391360</td>\n",
       "      <td>0.030210</td>\n",
       "      <td>0.010394</td>\n",
       "      <td>4.893953e-04</td>\n",
       "      <td>3</td>\n",
       "      <td>10</td>\n",
       "      <td>False</td>\n",
       "      <td>{'bootstrap': False, 'max_features': 3, 'n_est...</td>\n",
       "      <td>-2.839762e+09</td>\n",
       "      <td>-3.079063e+09</td>\n",
       "      <td>...</td>\n",
       "      <td>-2.977274e+09</td>\n",
       "      <td>1.035537e+08</td>\n",
       "      <td>7</td>\n",
       "      <td>-0.000000e+00</td>\n",
       "      <td>-7.419184e-01</td>\n",
       "      <td>-0.000000e+00</td>\n",
       "      <td>-8.290689e+01</td>\n",
       "      <td>-2.545042e+01</td>\n",
       "      <td>-2.181984e+01</td>\n",
       "      <td>3.206649e+01</td>\n",
       "    </tr>\n",
       "    <tr>\n",
       "      <th>16</th>\n",
       "      <td>0.148709</td>\n",
       "      <td>0.010936</td>\n",
       "      <td>0.003798</td>\n",
       "      <td>3.999008e-04</td>\n",
       "      <td>4</td>\n",
       "      <td>3</td>\n",
       "      <td>False</td>\n",
       "      <td>{'bootstrap': False, 'max_features': 4, 'n_est...</td>\n",
       "      <td>-3.683533e+09</td>\n",
       "      <td>-3.798100e+09</td>\n",
       "      <td>...</td>\n",
       "      <td>-3.800907e+09</td>\n",
       "      <td>9.415175e+07</td>\n",
       "      <td>14</td>\n",
       "      <td>-0.000000e+00</td>\n",
       "      <td>-0.000000e+00</td>\n",
       "      <td>-0.000000e+00</td>\n",
       "      <td>-0.000000e+00</td>\n",
       "      <td>-2.628480e+03</td>\n",
       "      <td>-5.256960e+02</td>\n",
       "      <td>1.051392e+03</td>\n",
       "    </tr>\n",
       "    <tr>\n",
       "      <th>17</th>\n",
       "      <td>0.476906</td>\n",
       "      <td>0.026133</td>\n",
       "      <td>0.013592</td>\n",
       "      <td>3.319944e-03</td>\n",
       "      <td>4</td>\n",
       "      <td>10</td>\n",
       "      <td>False</td>\n",
       "      <td>{'bootstrap': False, 'max_features': 4, 'n_est...</td>\n",
       "      <td>-2.783920e+09</td>\n",
       "      <td>-2.931335e+09</td>\n",
       "      <td>...</td>\n",
       "      <td>-2.946801e+09</td>\n",
       "      <td>1.137972e+08</td>\n",
       "      <td>6</td>\n",
       "      <td>-2.422591e-01</td>\n",
       "      <td>-0.000000e+00</td>\n",
       "      <td>-0.000000e+00</td>\n",
       "      <td>-3.785011e-01</td>\n",
       "      <td>-2.365632e+02</td>\n",
       "      <td>-4.743679e+01</td>\n",
       "      <td>9.456332e+01</td>\n",
       "    </tr>\n",
       "  </tbody>\n",
       "</table>\n",
       "<p>18 rows × 23 columns</p>\n",
       "</div>"
      ],
      "text/plain": [
       "    mean_fit_time  std_fit_time  mean_score_time  std_score_time  \\\n",
       "0        0.063960      0.003631         0.003398    4.898236e-04   \n",
       "1        0.193881      0.001788         0.009794    1.164781e-03   \n",
       "2        0.651798      0.068378         0.027384    1.958963e-03   \n",
       "3        0.091144      0.002783         0.003598    4.896693e-04   \n",
       "4        0.305410      0.012036         0.010394    4.895148e-04   \n",
       "5        0.946815      0.036137         0.026384    1.198753e-03   \n",
       "6        0.120325      0.002331         0.003998    4.672031e-07   \n",
       "7        0.412545      0.023981         0.010594    1.019291e-03   \n",
       "8        1.145294      0.021500         0.025384    4.894342e-04   \n",
       "9        0.145711      0.002134         0.003398    4.898430e-04   \n",
       "10       0.471510      0.002637         0.009794    3.996615e-04   \n",
       "11       1.415927      0.006206         0.025584    4.899798e-04   \n",
       "12       0.093942      0.001413         0.004198    3.989264e-04   \n",
       "13       0.334794      0.036314         0.011194    3.997810e-04   \n",
       "14       0.113531      0.001496         0.003998    5.917394e-07   \n",
       "15       0.391360      0.030210         0.010394    4.893953e-04   \n",
       "16       0.148709      0.010936         0.003798    3.999008e-04   \n",
       "17       0.476906      0.026133         0.013592    3.319944e-03   \n",
       "\n",
       "   param_max_features param_n_estimators param_bootstrap  \\\n",
       "0                   2                  3             NaN   \n",
       "1                   2                 10             NaN   \n",
       "2                   2                 30             NaN   \n",
       "3                   4                  3             NaN   \n",
       "4                   4                 10             NaN   \n",
       "5                   4                 30             NaN   \n",
       "6                   6                  3             NaN   \n",
       "7                   6                 10             NaN   \n",
       "8                   6                 30             NaN   \n",
       "9                   8                  3             NaN   \n",
       "10                  8                 10             NaN   \n",
       "11                  8                 30             NaN   \n",
       "12                  2                  3           False   \n",
       "13                  2                 10           False   \n",
       "14                  3                  3           False   \n",
       "15                  3                 10           False   \n",
       "16                  4                  3           False   \n",
       "17                  4                 10           False   \n",
       "\n",
       "                                               params  split0_test_score  \\\n",
       "0              {'max_features': 2, 'n_estimators': 3}      -3.905988e+09   \n",
       "1             {'max_features': 2, 'n_estimators': 10}      -3.137611e+09   \n",
       "2             {'max_features': 2, 'n_estimators': 30}      -2.805553e+09   \n",
       "3              {'max_features': 4, 'n_estimators': 3}      -3.495132e+09   \n",
       "4             {'max_features': 4, 'n_estimators': 10}      -2.747113e+09   \n",
       "5             {'max_features': 4, 'n_estimators': 30}      -2.564880e+09   \n",
       "6              {'max_features': 6, 'n_estimators': 3}      -3.515113e+09   \n",
       "7             {'max_features': 6, 'n_estimators': 10}      -2.721480e+09   \n",
       "8             {'max_features': 6, 'n_estimators': 30}      -2.482872e+09   \n",
       "9              {'max_features': 8, 'n_estimators': 3}      -3.551705e+09   \n",
       "10            {'max_features': 8, 'n_estimators': 10}      -2.751802e+09   \n",
       "11            {'max_features': 8, 'n_estimators': 30}      -2.529189e+09   \n",
       "12  {'bootstrap': False, 'max_features': 2, 'n_est...      -3.796691e+09   \n",
       "13  {'bootstrap': False, 'max_features': 2, 'n_est...      -2.905503e+09   \n",
       "14  {'bootstrap': False, 'max_features': 3, 'n_est...      -3.747852e+09   \n",
       "15  {'bootstrap': False, 'max_features': 3, 'n_est...      -2.839762e+09   \n",
       "16  {'bootstrap': False, 'max_features': 4, 'n_est...      -3.683533e+09   \n",
       "17  {'bootstrap': False, 'max_features': 4, 'n_est...      -2.783920e+09   \n",
       "\n",
       "    split1_test_score  ...  mean_test_score  std_test_score  rank_test_score  \\\n",
       "0       -4.237499e+09  ...    -4.248710e+09    1.920434e+08               18   \n",
       "1       -3.312484e+09  ...    -3.302277e+09    1.319590e+08               11   \n",
       "2       -3.036192e+09  ...    -2.977304e+09    1.473404e+08                8   \n",
       "3       -4.141663e+09  ...    -3.892590e+09    2.507104e+08               15   \n",
       "4       -3.179384e+09  ...    -3.056189e+09    1.968675e+08                9   \n",
       "5       -2.881626e+09  ...    -2.752685e+09    1.477267e+08                3   \n",
       "6       -3.784322e+09  ...    -3.758142e+09    2.349885e+08               13   \n",
       "7       -2.961508e+09  ...    -2.917695e+09    1.688880e+08                5   \n",
       "8       -2.740798e+09  ...    -2.648213e+09    1.608520e+08                2   \n",
       "9       -3.795404e+09  ...    -3.649701e+09    1.134024e+08               12   \n",
       "10      -3.022417e+09  ...    -2.879592e+09    1.387979e+08                4   \n",
       "11      -2.740268e+09  ...    -2.646970e+09    1.282281e+08                1   \n",
       "12      -4.233373e+09  ...    -4.060250e+09    1.521855e+08               17   \n",
       "13      -3.215468e+09  ...    -3.168151e+09    1.811426e+08               10   \n",
       "14      -4.080850e+09  ...    -3.919502e+09    1.408844e+08               16   \n",
       "15      -3.079063e+09  ...    -2.977274e+09    1.035537e+08                7   \n",
       "16      -3.798100e+09  ...    -3.800907e+09    9.415175e+07               14   \n",
       "17      -2.931335e+09  ...    -2.946801e+09    1.137972e+08                6   \n",
       "\n",
       "    split0_train_score  split1_train_score  split2_train_score  \\\n",
       "0        -1.147306e+09       -1.110145e+09       -1.140001e+09   \n",
       "1        -6.216071e+08       -6.022343e+08       -5.957915e+08   \n",
       "2        -4.604464e+08       -4.516947e+08       -4.473540e+08   \n",
       "3        -1.042501e+09       -1.022615e+09       -1.015949e+09   \n",
       "4        -5.612337e+08       -5.495048e+08       -5.475204e+08   \n",
       "5        -4.279131e+08       -4.170662e+08       -4.188756e+08   \n",
       "6        -9.527392e+08       -9.797345e+08       -1.011668e+09   \n",
       "7        -5.312460e+08       -5.302058e+08       -5.321541e+08   \n",
       "8        -4.136838e+08       -4.050336e+08       -4.051027e+08   \n",
       "9        -9.585035e+08       -9.606338e+08       -9.541477e+08   \n",
       "10       -5.207721e+08       -5.240783e+08       -5.041009e+08   \n",
       "11       -3.999625e+08       -3.906967e+08       -3.941381e+08   \n",
       "12       -3.804527e+04       -0.000000e+00       -0.000000e+00   \n",
       "13       -3.424135e+03       -7.001287e+01       -0.000000e+00   \n",
       "14       -0.000000e+00       -0.000000e+00       -0.000000e+00   \n",
       "15       -0.000000e+00       -7.419184e-01       -0.000000e+00   \n",
       "16       -0.000000e+00       -0.000000e+00       -0.000000e+00   \n",
       "17       -2.422591e-01       -0.000000e+00       -0.000000e+00   \n",
       "\n",
       "    split3_train_score  split4_train_score  mean_train_score  std_train_score  \n",
       "0        -1.159958e+09       -1.142142e+09     -1.139911e+09     1.641670e+07  \n",
       "1        -6.275998e+08       -6.123041e+08     -6.119074e+08     1.177953e+07  \n",
       "2        -4.648261e+08       -4.581160e+08     -4.564875e+08     6.232950e+06  \n",
       "3        -1.038527e+09       -1.041280e+09     -1.032174e+09     1.081243e+07  \n",
       "4        -5.683397e+08       -5.598644e+08     -5.572926e+08     7.750225e+06  \n",
       "5        -4.254150e+08       -4.107080e+08     -4.199956e+08     6.134354e+06  \n",
       "6        -9.875966e+08       -9.814782e+08     -9.826432e+08     1.882033e+07  \n",
       "7        -5.466882e+08       -5.370842e+08     -5.354757e+08     6.082816e+06  \n",
       "8        -4.134839e+08       -4.001491e+08     -4.074906e+08     5.289820e+06  \n",
       "9        -1.012617e+09       -9.390745e+08     -9.649952e+08     2.497405e+07  \n",
       "10       -5.371859e+08       -5.164009e+08     -5.205076e+08     1.074273e+07  \n",
       "11       -4.138776e+08       -3.951985e+08     -3.987746e+08     8.112340e+06  \n",
       "12       -0.000000e+00       -2.302969e+02     -7.655114e+03     1.519534e+04  \n",
       "13       -0.000000e+00       -4.487509e+01     -7.078046e+02     1.358431e+03  \n",
       "14       -9.211877e+02       -0.000000e+00     -1.842375e+02     3.684751e+02  \n",
       "15       -8.290689e+01       -2.545042e+01     -2.181984e+01     3.206649e+01  \n",
       "16       -0.000000e+00       -2.628480e+03     -5.256960e+02     1.051392e+03  \n",
       "17       -3.785011e-01       -2.365632e+02     -4.743679e+01     9.456332e+01  \n",
       "\n",
       "[18 rows x 23 columns]"
      ]
     },
     "execution_count": 93,
     "metadata": {},
     "output_type": "execute_result"
    }
   ],
   "source": [
    "pd.DataFrame(grid_search.cv_results_)"
   ]
  },
  {
   "cell_type": "markdown",
   "id": "cb5144d7",
   "metadata": {},
   "source": [
    "## Feature Importance ::"
   ]
  },
  {
   "cell_type": "code",
   "execution_count": 99,
   "id": "9281c135",
   "metadata": {},
   "outputs": [
    {
     "data": {
      "text/plain": [
       "array([5.98520164e-02, 5.56180571e-02, 4.66062840e-02, 1.83866932e-02,\n",
       "       1.69578902e-02, 1.70533882e-02, 1.70324927e-02, 2.64070110e-01,\n",
       "       2.52167593e-02, 1.07124715e-01, 5.53818067e-02, 7.35979958e-03,\n",
       "       1.24496178e-01, 1.50986585e-04, 2.79153401e-03, 5.47387720e-03,\n",
       "       2.86304881e-03, 3.96556813e-02, 6.84792403e-03, 1.24003333e-02,\n",
       "       1.14660424e-01])"
      ]
     },
     "execution_count": 99,
     "metadata": {},
     "output_type": "execute_result"
    }
   ],
   "source": [
    "##\n",
    "feature_importances = grid_search.best_estimator_.feature_importances_ \n",
    "\n",
    "feature_importances"
   ]
  },
  {
   "cell_type": "code",
   "execution_count": 100,
   "id": "d5e59eec",
   "metadata": {},
   "outputs": [
    {
     "data": {
      "text/plain": [
       "[('longitude', 0.059852016384141705),\n",
       " ('latitude', 0.05561805714469466),\n",
       " ('housing_median_age', 0.04660628398405185),\n",
       " ('total_rooms', 0.018386693192973792),\n",
       " ('total_bedrooms', 0.016957890173369627),\n",
       " ('population', 0.017053388227739913),\n",
       " ('households', 0.017032492704882485),\n",
       " ('median_income', 0.2640701101381051),\n",
       " ('median_income_cat', 0.02521675931486695),\n",
       " ('Bedrooms_per_household', 0.1071247146819002),\n",
       " ('population_per_household', 0.05538180667211382),\n",
       " ('rooms_per_household', 0.0073597995838399),\n",
       " ('<1H OCEAN', 0.1244961782693722),\n",
       " ('INLAND', 0.00015098658528528875),\n",
       " ('ISLAND', 0.0027915340065003892),\n",
       " ('NEAR BAY', 0.005473877197698571),\n",
       " ('NEAR OCEAN', 0.0028630488142887406)]"
      ]
     },
     "execution_count": 100,
     "metadata": {},
     "output_type": "execute_result"
    }
   ],
   "source": [
    "\n",
    "feature_importance_list = list(zip(features,feature_importances.tolist()))\n",
    "feature_importance_list"
   ]
  },
  {
   "cell_type": "code",
   "execution_count": 121,
   "id": "021cd002",
   "metadata": {},
   "outputs": [],
   "source": []
  },
  {
   "cell_type": "code",
   "execution_count": 125,
   "id": "a7b05d82",
   "metadata": {},
   "outputs": [
    {
     "data": {
      "text/plain": [
       "17"
      ]
     },
     "execution_count": 125,
     "metadata": {},
     "output_type": "execute_result"
    }
   ],
   "source": []
  },
  {
   "cell_type": "code",
   "execution_count": 126,
   "id": "58f0f7cf",
   "metadata": {},
   "outputs": [
    {
     "data": {
      "text/plain": [
       "21"
      ]
     },
     "execution_count": 126,
     "metadata": {},
     "output_type": "execute_result"
    }
   ],
   "source": []
  },
  {
   "cell_type": "code",
   "execution_count": 127,
   "id": "010b8b5a",
   "metadata": {},
   "outputs": [
    {
     "data": {
      "text/plain": [
       "array([5.98520164e-02, 5.56180571e-02, 4.66062840e-02, 1.83866932e-02,\n",
       "       1.69578902e-02, 1.70533882e-02, 1.70324927e-02, 2.64070110e-01,\n",
       "       2.52167593e-02, 1.07124715e-01, 5.53818067e-02, 7.35979958e-03,\n",
       "       1.24496178e-01, 1.50986585e-04, 2.79153401e-03, 5.47387720e-03,\n",
       "       2.86304881e-03, 3.96556813e-02, 6.84792403e-03, 1.24003333e-02,\n",
       "       1.14660424e-01])"
      ]
     },
     "execution_count": 127,
     "metadata": {},
     "output_type": "execute_result"
    }
   ],
   "source": []
  },
  {
   "cell_type": "code",
   "execution_count": null,
   "id": "64260f78",
   "metadata": {},
   "outputs": [],
   "source": []
  },
  {
   "cell_type": "code",
   "execution_count": null,
   "id": "df5e3dd9",
   "metadata": {},
   "outputs": [],
   "source": []
  },
  {
   "cell_type": "code",
   "execution_count": 114,
   "id": "6a57ed44",
   "metadata": {},
   "outputs": [
    {
     "data": {
      "text/plain": [
       "19795.758353667796"
      ]
     },
     "execution_count": 114,
     "metadata": {},
     "output_type": "execute_result"
    }
   ],
   "source": [
    "ForestTree_mse_WithHyp = mean_squared_error(train_labels,train_predicitons)\n",
    "ForestTree_WithHyp_rmse = np.sqrt(ForestTree_mse_WithHyp)\n",
    "ForestTree_WithHyp_rmse"
   ]
  },
  {
   "cell_type": "code",
   "execution_count": null,
   "id": "62771b4c",
   "metadata": {},
   "outputs": [],
   "source": []
  },
  {
   "cell_type": "code",
   "execution_count": 97,
   "id": "3e532e14",
   "metadata": {},
   "outputs": [],
   "source": [
    "final_model = grid_search.best_estimator_\n",
    "\n",
    "X_test = strat_test_set.drop(\"median_house_value\", axis=1)\n",
    "y_test = strat_test_set[\"median_house_value\"].copy()\n",
    "\n",
    "#X_test_prepared \n",
    "X_test_prepared, test_labels, features= data_transform_pipeline(X_test)\n",
    "final_predictions = final_model.predict(X_test_prepared)\n",
    "\n",
    "final_mse = mean_squared_error(y_test, final_predictions)\n",
    "final_rmse = np.sqrt(final_mse)"
   ]
  },
  {
   "cell_type": "code",
   "execution_count": 98,
   "id": "d95fe4af",
   "metadata": {},
   "outputs": [
    {
     "data": {
      "text/plain": [
       "67279.29310960919"
      ]
     },
     "execution_count": 98,
     "metadata": {},
     "output_type": "execute_result"
    }
   ],
   "source": [
    "final_rmse"
   ]
  },
  {
   "cell_type": "code",
   "execution_count": 128,
   "id": "d071cb59",
   "metadata": {},
   "outputs": [],
   "source": [
    "## ****************************************************************************************************************************"
   ]
  },
  {
   "cell_type": "code",
   "execution_count": null,
   "id": "c4dfc97c",
   "metadata": {},
   "outputs": [],
   "source": []
  },
  {
   "cell_type": "code",
   "execution_count": null,
   "id": "5eacbc19",
   "metadata": {},
   "outputs": [],
   "source": []
  },
  {
   "cell_type": "code",
   "execution_count": null,
   "id": "7a2cd5da",
   "metadata": {},
   "outputs": [],
   "source": []
  }
 ],
 "metadata": {
  "kernelspec": {
   "display_name": "Python 3",
   "language": "python",
   "name": "python3"
  },
  "language_info": {
   "codemirror_mode": {
    "name": "ipython",
    "version": 3
   },
   "file_extension": ".py",
   "mimetype": "text/x-python",
   "name": "python",
   "nbconvert_exporter": "python",
   "pygments_lexer": "ipython3",
   "version": "3.6.13"
  }
 },
 "nbformat": 4,
 "nbformat_minor": 5
}
